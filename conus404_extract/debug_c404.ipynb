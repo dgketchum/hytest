{
 "cells": [
  {
   "cell_type": "code",
   "execution_count": 8,
   "id": "initial_id",
   "metadata": {
    "execution": {
     "iopub.execute_input": "2024-11-27T05:31:28.936357Z",
     "iopub.status.busy": "2024-11-27T05:31:28.935113Z",
     "iopub.status.idle": "2024-11-27T05:31:29.059590Z",
     "shell.execute_reply": "2024-11-27T05:31:29.058500Z",
     "shell.execute_reply.started": "2024-11-27T05:31:28.936315Z"
    }
   },
   "outputs": [],
   "source": [
    "import calendar\n",
    "import logging\n",
    "import os\n",
    "import intake\n",
    "import concurrent.futures\n",
    "import numpy as np\n",
    "import pandas as pd\n",
    "import xarray as xr\n",
    "import dask\n",
    "import zarr\n",
    "from dask.diagnostics import ProgressBar\n",
    "from dask.distributed import Client, LocalCluster\n",
    "import pyproj\n",
    "import cartopy.crs as ccrs"
   ]
  },
  {
   "cell_type": "code",
   "execution_count": 2,
   "id": "b7878a77d059eb84",
   "metadata": {
    "execution": {
     "iopub.execute_input": "2024-11-27T05:30:59.058656Z",
     "iopub.status.busy": "2024-11-27T05:30:59.058182Z",
     "iopub.status.idle": "2024-11-27T05:30:59.064891Z",
     "shell.execute_reply": "2024-11-27T05:30:59.063997Z",
     "shell.execute_reply.started": "2024-11-27T05:30:59.058622Z"
    }
   },
   "outputs": [],
   "source": [
    "r = '/caldera/hovenweep/projects/usgs/water'\n",
    "d = os.path.join(r, 'wymtwsc', 'dketchum')\n",
    "c404 = os.path.join(d, 'conus404')\n",
    "dads = os.path.join(d, 'dads')\n",
    "ghcn = os.path.join(d, 'climate', 'ghcn')\n",
    "\n",
    "zarr_store = os.path.join(r, 'impd/hytest/conus404/conus404_hourly.zarr')\n",
    "sites = os.path.join(dads, 'met', 'stations', 'madis_29OCT2024.csv')\n",
    "csv_files = os.path.join(c404, 'station_data')"
   ]
  },
  {
   "cell_type": "code",
   "execution_count": 3,
   "id": "48c2b689-5222-4ab8-afb4-91e4ba03cd86",
   "metadata": {
    "execution": {
     "iopub.execute_input": "2024-11-27T05:31:00.447116Z",
     "iopub.status.busy": "2024-11-27T05:31:00.446415Z",
     "iopub.status.idle": "2024-11-27T05:31:00.453352Z",
     "shell.execute_reply": "2024-11-27T05:31:00.452423Z",
     "shell.execute_reply.started": "2024-11-27T05:31:00.447082Z"
    }
   },
   "outputs": [],
   "source": [
    "def get_quadrants(b):\n",
    "    mid_longitude = (b[0] + b[2]) / 2\n",
    "    mid_latitude = (b[1] + b[3]) / 2\n",
    "    quadrant_nw = (b[0], mid_latitude, mid_longitude, b[3])\n",
    "    quadrant_ne = (mid_longitude, mid_latitude, b[2], b[3])\n",
    "    quadrant_sw = (b[0], b[1], mid_longitude, mid_latitude)\n",
    "    quadrant_se = (mid_longitude, b[1], b[2], mid_latitude)\n",
    "    quadrants = [quadrant_nw, quadrant_ne, quadrant_sw, quadrant_se]\n",
    "    return quadrants\n"
   ]
  },
  {
   "cell_type": "code",
   "execution_count": 4,
   "id": "b83913a5-eb03-4ff5-84d1-0ba3b16d3f41",
   "metadata": {
    "execution": {
     "iopub.execute_input": "2024-11-27T05:31:02.964334Z",
     "iopub.status.busy": "2024-11-27T05:31:02.963667Z",
     "iopub.status.idle": "2024-11-27T05:31:02.975078Z",
     "shell.execute_reply": "2024-11-27T05:31:02.974223Z",
     "shell.execute_reply.started": "2024-11-27T05:31:02.964294Z"
    }
   },
   "outputs": [
    {
     "data": {
      "text/plain": [
       "(-125.0, 46.0, -110.5, 53.0)"
      ]
     },
     "execution_count": 4,
     "metadata": {},
     "output_type": "execute_result"
    }
   ],
   "source": [
    "bounds = (-125.0, 25.0, -67.0, 53.0)\n",
    "quadrants = get_quadrants(bounds)\n",
    "sixteens = [get_quadrants(q) for q in quadrants]\n",
    "sixteens = [x for xs in sixteens for x in xs]\n",
    "sixteens[0]\n"
   ]
  },
  {
   "cell_type": "code",
   "execution_count": 5,
   "id": "a2205f6c4d297eac",
   "metadata": {
    "execution": {
     "iopub.execute_input": "2024-11-27T05:31:04.170132Z",
     "iopub.status.busy": "2024-11-27T05:31:04.169452Z",
     "iopub.status.idle": "2024-11-27T05:31:04.175117Z",
     "shell.execute_reply": "2024-11-27T05:31:04.174213Z",
     "shell.execute_reply.started": "2024-11-27T05:31:04.170098Z"
    }
   },
   "outputs": [],
   "source": [
    "stations = sites\n",
    "nc_data = zarr_store\n",
    "out_data = csv_files\n",
    "workers=36\n",
    "overwrite=False\n",
    "bounds=sixteens[0]\n",
    "start_yr=2014\n",
    "end_yr=2014\n",
    "mode = 'debug'"
   ]
  },
  {
   "cell_type": "code",
   "execution_count": 6,
   "id": "74f3b53980cb32b3",
   "metadata": {
    "execution": {
     "iopub.execute_input": "2024-11-27T05:31:06.361949Z",
     "iopub.status.busy": "2024-11-27T05:31:06.360829Z",
     "iopub.status.idle": "2024-11-27T05:31:06.507793Z",
     "shell.execute_reply": "2024-11-27T05:31:06.506996Z",
     "shell.execute_reply.started": "2024-11-27T05:31:06.361912Z"
    }
   },
   "outputs": [
    {
     "name": "stdout",
     "output_type": "stream",
     "text": [
      "3092 stations to write\n",
      "sample stations for the selected region:\n",
      "          fid   latitude   longitude         elev      stype\n",
      "fid                                                        \n",
      "BF279  BF279  51.101871 -124.950180  1480.699951   utmesnet\n",
      "AV924  AV924  46.042000 -118.341003   275.000000  APRSWXNET\n",
      "PEFW1  PEFW1  47.152222 -120.946671  1225.300049       RAWS\n",
      "D9605  D9605  48.478168 -111.352173   953.460022  APRSWXNET\n",
      "BF163  BF163  49.906502 -116.855103  1018.900024   utmesnet\n"
     ]
    },
    {
     "data": {
      "text/html": [
       "<div>\n",
       "<style scoped>\n",
       "    .dataframe tbody tr th:only-of-type {\n",
       "        vertical-align: middle;\n",
       "    }\n",
       "\n",
       "    .dataframe tbody tr th {\n",
       "        vertical-align: top;\n",
       "    }\n",
       "\n",
       "    .dataframe thead th {\n",
       "        text-align: right;\n",
       "    }\n",
       "</style>\n",
       "<table border=\"1\" class=\"dataframe\">\n",
       "  <thead>\n",
       "    <tr style=\"text-align: right;\">\n",
       "      <th></th>\n",
       "      <th>fid</th>\n",
       "      <th>latitude</th>\n",
       "      <th>longitude</th>\n",
       "      <th>elev</th>\n",
       "      <th>stype</th>\n",
       "    </tr>\n",
       "    <tr>\n",
       "      <th>fid</th>\n",
       "      <th></th>\n",
       "      <th></th>\n",
       "      <th></th>\n",
       "      <th></th>\n",
       "      <th></th>\n",
       "    </tr>\n",
       "  </thead>\n",
       "  <tbody>\n",
       "    <tr>\n",
       "      <th>BNBMD</th>\n",
       "      <td>BNBMD</td>\n",
       "      <td>47.644989</td>\n",
       "      <td>-122.529404</td>\n",
       "      <td>41.174999</td>\n",
       "      <td>AWS</td>\n",
       "    </tr>\n",
       "    <tr>\n",
       "      <th>BRMWA</th>\n",
       "      <td>BRMWA</td>\n",
       "      <td>47.641659</td>\n",
       "      <td>-122.607201</td>\n",
       "      <td>44.224998</td>\n",
       "      <td>AWS</td>\n",
       "    </tr>\n",
       "    <tr>\n",
       "      <th>CLLMC</th>\n",
       "      <td>CLLMC</td>\n",
       "      <td>47.204441</td>\n",
       "      <td>-120.974098</td>\n",
       "      <td>650.565002</td>\n",
       "      <td>AWS</td>\n",
       "    </tr>\n",
       "    <tr>\n",
       "      <th>EVRMT</th>\n",
       "      <td>EVRMT</td>\n",
       "      <td>47.919991</td>\n",
       "      <td>-122.221901</td>\n",
       "      <td>6.405000</td>\n",
       "      <td>AWS</td>\n",
       "    </tr>\n",
       "    <tr>\n",
       "      <th>GCOUL</th>\n",
       "      <td>GCOUL</td>\n",
       "      <td>47.938332</td>\n",
       "      <td>-119.004700</td>\n",
       "      <td>509.350006</td>\n",
       "      <td>AWS</td>\n",
       "    </tr>\n",
       "    <tr>\n",
       "      <th>...</th>\n",
       "      <td>...</td>\n",
       "      <td>...</td>\n",
       "      <td>...</td>\n",
       "      <td>...</td>\n",
       "      <td>...</td>\n",
       "    </tr>\n",
       "    <tr>\n",
       "      <th>2228P</th>\n",
       "      <td>2228P</td>\n",
       "      <td>47.646210</td>\n",
       "      <td>-122.696274</td>\n",
       "      <td>6.100000</td>\n",
       "      <td>utmesnet</td>\n",
       "    </tr>\n",
       "    <tr>\n",
       "      <th>D2826</th>\n",
       "      <td>D2826</td>\n",
       "      <td>48.076500</td>\n",
       "      <td>-123.448334</td>\n",
       "      <td>280.380005</td>\n",
       "      <td>APRSWXNET</td>\n",
       "    </tr>\n",
       "    <tr>\n",
       "      <th>AP250</th>\n",
       "      <td>AP250</td>\n",
       "      <td>46.638000</td>\n",
       "      <td>-111.943001</td>\n",
       "      <td>1138.000000</td>\n",
       "      <td>APRSWXNET</td>\n",
       "    </tr>\n",
       "    <tr>\n",
       "      <th>2306P</th>\n",
       "      <td>2306P</td>\n",
       "      <td>47.660450</td>\n",
       "      <td>-117.424278</td>\n",
       "      <td>568.099976</td>\n",
       "      <td>utmesnet</td>\n",
       "    </tr>\n",
       "    <tr>\n",
       "      <th>F3679</th>\n",
       "      <td>F3679</td>\n",
       "      <td>46.344330</td>\n",
       "      <td>-119.384499</td>\n",
       "      <td>122.489998</td>\n",
       "      <td>APRSWXNET</td>\n",
       "    </tr>\n",
       "  </tbody>\n",
       "</table>\n",
       "<p>3092 rows × 5 columns</p>\n",
       "</div>"
      ],
      "text/plain": [
       "         fid   latitude   longitude         elev      stype\n",
       "fid                                                        \n",
       "BNBMD  BNBMD  47.644989 -122.529404    41.174999        AWS\n",
       "BRMWA  BRMWA  47.641659 -122.607201    44.224998        AWS\n",
       "CLLMC  CLLMC  47.204441 -120.974098   650.565002        AWS\n",
       "EVRMT  EVRMT  47.919991 -122.221901     6.405000        AWS\n",
       "GCOUL  GCOUL  47.938332 -119.004700   509.350006        AWS\n",
       "...      ...        ...         ...          ...        ...\n",
       "2228P  2228P  47.646210 -122.696274     6.100000   utmesnet\n",
       "D2826  D2826  48.076500 -123.448334   280.380005  APRSWXNET\n",
       "AP250  AP250  46.638000 -111.943001  1138.000000  APRSWXNET\n",
       "2306P  2306P  47.660450 -117.424278   568.099976   utmesnet\n",
       "F3679  F3679  46.344330 -119.384499   122.489998  APRSWXNET\n",
       "\n",
       "[3092 rows x 5 columns]"
      ]
     },
     "execution_count": 6,
     "metadata": {},
     "output_type": "execute_result"
    }
   ],
   "source": [
    "station_list = pd.read_csv(stations)\n",
    "if 'LAT' in station_list.columns:\n",
    "    station_list = station_list.rename(columns={'STAID': 'fid', 'LAT': 'latitude', 'LON': 'longitude'})\n",
    "station_list.index = station_list['fid']\n",
    "\n",
    "if bounds:\n",
    "    w, s, e, n = bounds\n",
    "    station_list = station_list[(station_list['latitude'] < n) & (station_list['latitude'] >= s)]\n",
    "    station_list = station_list[(station_list['longitude'] < e) & (station_list['longitude'] >= w)]\n",
    "else:\n",
    "    ln = station_list.shape[0]\n",
    "    w, s, e, n = (-125.0, 25.0, -67.0, 53.0)\n",
    "    station_list = station_list[(station_list['latitude'] < n) & (station_list['latitude'] >= s)]\n",
    "    station_list = station_list[(station_list['longitude'] < e) & (station_list['longitude'] >= w)]\n",
    "    print('dropped {} stations outside NLDAS-2 extent'.format(ln - station_list.shape[0]))\n",
    "\n",
    "print(f'{len(station_list)} stations to write')\n",
    "print(f'sample stations for the selected region:\\n {station_list.sample(n=5)}')\n",
    "\n",
    "dates = [(year, month, calendar.monthrange(year, month)[-1])\n",
    "         for year in range(start_yr, end_yr + 1) for month in range(1, 13)]\n",
    "\n",
    "station_list"
   ]
  },
  {
   "cell_type": "code",
   "execution_count": 9,
   "id": "c0a07bc3-75ee-4144-8ab6-b263df63dd47",
   "metadata": {
    "execution": {
     "iopub.execute_input": "2024-11-27T05:31:33.644989Z",
     "iopub.status.busy": "2024-11-27T05:31:33.643542Z",
     "iopub.status.idle": "2024-11-27T05:31:33.676996Z",
     "shell.execute_reply": "2024-11-27T05:31:33.676170Z",
     "shell.execute_reply.started": "2024-11-27T05:31:33.644928Z"
    }
   },
   "outputs": [
    {
     "data": {
      "text/plain": [
       "(-2039715.0340867909,\n",
       " 1070649.589525464,\n",
       " -849923.4175176456,\n",
       " 1594627.8324152853)"
      ]
     },
     "execution_count": 9,
     "metadata": {},
     "output_type": "execute_result"
    }
   ],
   "source": [
    "def projected_coords(row, _bounds=None):\n",
    "    globe = ccrs.Globe(ellipse='sphere', semimajor_axis=6370000, semiminor_axis=6370000)\n",
    "    lcc = ccrs.LambertConformal(globe=globe,\n",
    "                                central_longitude=-97.9000015258789,\n",
    "                                central_latitude=39.100006103515625,\n",
    "                                standard_parallels=[30.0, 50.0])\n",
    "    lcc_wkt = lcc.to_wkt()\n",
    "    source_crs = 'epsg:4326'\n",
    "    transformer = pyproj.Transformer.from_crs(source_crs, lcc_wkt)\n",
    "    if _bounds is not None:\n",
    "        west, south, east, north = _bounds\n",
    "        sw_x, sw_y = transformer.transform(south, west)\n",
    "        ne_x, ne_y = transformer.transform(north, east)\n",
    "        return sw_x, sw_y, ne_x, ne_y\n",
    "    else:\n",
    "        x, y = transformer.transform(row['longitude'], row['latitude'])\n",
    "        return x, y\n",
    "\n",
    "bounds_proj = projected_coords(None, _bounds=bounds)\n",
    "bounds_proj"
   ]
  },
  {
   "cell_type": "code",
   "execution_count": 10,
   "id": "639d96ad-b66a-40d5-b19c-dbc6f0c83cf5",
   "metadata": {
    "execution": {
     "iopub.execute_input": "2024-11-27T05:31:36.881295Z",
     "iopub.status.busy": "2024-11-27T05:31:36.880662Z",
     "iopub.status.idle": "2024-11-27T05:31:40.700923Z",
     "shell.execute_reply": "2024-11-27T05:31:40.699781Z",
     "shell.execute_reply.started": "2024-11-27T05:31:36.881262Z"
    }
   },
   "outputs": [
    {
     "name": "stderr",
     "output_type": "stream",
     "text": [
      "/home/dketchum/miniconda3/envs/hyt/lib/python3.10/site-packages/intake_xarray/base.py:21: FutureWarning: The return type of `Dataset.dims` will be changed to return a set of dimension names in future, in order to be more consistent with `DataArray.dims`. To access a mapping from dimension names to lengths, please use `Dataset.sizes`.\n",
      "  'dims': dict(self._ds.dims),\n"
     ]
    }
   ],
   "source": [
    "output_mode = 'ba'\n",
    "hytest_cat = intake.open_catalog(\n",
    "    \"https://raw.githubusercontent.com/hytest-org/hytest/main/dataset_catalog/hytest_intake_catalog.yml\")\n",
    "cat = hytest_cat['conus404-catalog']\n",
    "if output_mode == 'uncorrected':\n",
    "    # model output, uncorrected\n",
    "    dataset = 'conus404-hourly-onprem-hw'\n",
    "elif output_mode == 'ba':\n",
    "    # bias-adjusted for precip and temp\n",
    "    dataset = 'conus404-hourly-ba-onprem-hw'\n",
    "else:\n",
    "    raise ValueError('output_mode not recognized')\n",
    "ds = cat[dataset].to_dask()"
   ]
  },
  {
   "cell_type": "code",
   "execution_count": 11,
   "id": "c18acd2e838f671b",
   "metadata": {
    "execution": {
     "iopub.execute_input": "2024-11-27T05:31:40.703319Z",
     "iopub.status.busy": "2024-11-27T05:31:40.702488Z",
     "iopub.status.idle": "2024-11-27T05:31:40.722881Z",
     "shell.execute_reply": "2024-11-27T05:31:40.722067Z",
     "shell.execute_reply.started": "2024-11-27T05:31:40.703282Z"
    }
   },
   "outputs": [],
   "source": [
    "\n",
    "def get_month_met(station_list_, date_, out_data, overwrite, bounds_=None, output_mode='uncorrected'):\n",
    "    \"\"\"\"\"\"\n",
    "    import xoak\n",
    "    year, month, month_end = date_\n",
    "\n",
    "    # dataset 1979 to 2022-10-01\n",
    "    if year == 2022 and month > 9:\n",
    "        return\n",
    "    date_string = '{}-{}'.format(year, str(month).rjust(2, '0'))\n",
    "\n",
    "    fids = station_list_.index.to_list()\n",
    "\n",
    "    hytest_cat = intake.open_catalog(\n",
    "        \"https://raw.githubusercontent.com/hytest-org/hytest/main/dataset_catalog/hytest_intake_catalog.yml\")\n",
    "    cat = hytest_cat['conus404-catalog']\n",
    "    if output_mode == 'uncorrected':\n",
    "        # model output, uncorrected\n",
    "        dataset = 'conus404-hourly-onprem-hw'\n",
    "        variables = ['T2', 'TD2', 'QVAPOR', 'U10', 'V10', 'PSFC', 'ACSWDNLSM']\n",
    "        print('using uncorrected data')\n",
    "    elif output_mode == 'ba':\n",
    "        variables = ['RAINRATE', 'T2D']\n",
    "        # bias-adjusted for precip and temp\n",
    "        dataset = 'conus404-hourly-ba-onprem-hw'\n",
    "        print('using bias-adjusted data')\n",
    "    else:\n",
    "        raise ValueError('output_mode not recognized')\n",
    "\n",
    "    ds = cat[dataset].to_dask()\n",
    "    # extract crs meta before continuing to modify ds\n",
    "    bounds_proj = projected_coords(row=None, _bounds=bounds)\n",
    "    ds = ds.sel(time=slice(f'{year}-{month}-01', f'{year}-{month}-{month_end}'))\n",
    "    ds = ds[variables]\n",
    "    if bounds_ is not None:\n",
    "        ds = ds.sel(y=slice(bounds_proj[1], bounds_proj[3]),\n",
    "                    x=slice(bounds_proj[0], bounds_proj[2]))\n",
    "    if output_mode == 'uncorrected':\n",
    "        station_list_ = station_list_.to_xarray()\n",
    "        ds.xoak.set_index(['lat', 'lon'], 'sklearn_geo_balltree')\n",
    "        ds = ds.xoak.sel(lat=station_list_.latitude, lon=station_list_.longitude, tolerance=4000)\n",
    "    else:\n",
    "        station_list_[['x', 'y']] = station_list_.apply(projected_coords, axis=1, result_type='expand')\n",
    "        station_list_ = station_list_.to_xarray()\n",
    "        ds = ds.sel(y=station_list_.y, x=station_list_.x, method='nearest', tolerance=4000)\n",
    "    \n",
    "    print(ds)\n",
    "    ds = xr.merge([station_list_, ds])\n",
    "    all_df = ds.to_dataframe()\n",
    "\n",
    "    try:\n",
    "        ct = 0\n",
    "        for fid in fids:\n",
    "            dst_dir = os.path.join(out_data, fid)\n",
    "            if not os.path.exists(dst_dir):\n",
    "                os.mkdir(dst_dir)\n",
    "            _file = os.path.join(dst_dir, f'{fid}_{date_string}.parquet')\n",
    "            if not os.path.exists(_file) or overwrite:\n",
    "                df_station = all_df.loc[slice(fid), slice(None)].copy()\n",
    "                df_station = df_station.groupby(df_station.index.get_level_values('time')).first()\n",
    "                df_station['dt'] = [i.strftime('%Y%m%d%H') for i in df_station.index]\n",
    "                df_station.to_parquet(_file, index=False)\n",
    "                ct += 1\n",
    "        if ct % 1000 == 0.:\n",
    "            print(f'{ct} of {len(fids)} for {date_string}')\n",
    "    except Exception as exc:\n",
    "        print(f'{date_string}: {exc}')\n",
    "\n",
    "    del ds"
   ]
  },
  {
   "cell_type": "code",
   "execution_count": 12,
   "id": "fc0d5f689cdaaf85",
   "metadata": {
    "execution": {
     "iopub.execute_input": "2024-11-27T05:31:40.724844Z",
     "iopub.status.busy": "2024-11-27T05:31:40.724090Z",
     "iopub.status.idle": "2024-11-27T05:32:18.022322Z",
     "shell.execute_reply": "2024-11-27T05:32:18.021479Z",
     "shell.execute_reply.started": "2024-11-27T05:31:40.724793Z"
    }
   },
   "outputs": [
    {
     "name": "stdout",
     "output_type": "stream",
     "text": [
      "using bias-adjusted data\n"
     ]
    },
    {
     "name": "stderr",
     "output_type": "stream",
     "text": [
      "/home/dketchum/miniconda3/envs/hyt/lib/python3.10/site-packages/intake_xarray/base.py:21: FutureWarning: The return type of `Dataset.dims` will be changed to return a set of dimension names in future, in order to be more consistent with `DataArray.dims`. To access a mapping from dimension names to lengths, please use `Dataset.sizes`.\n",
      "  'dims': dict(self._ds.dims),\n"
     ]
    },
    {
     "ename": "KeyError",
     "evalue": "\"not all values found in index 'y'\"",
     "output_type": "error",
     "traceback": [
      "\u001b[0;31m---------------------------------------------------------------------------\u001b[0m",
      "\u001b[0;31mKeyError\u001b[0m                                  Traceback (most recent call last)",
      "Cell \u001b[0;32mIn[12], line 4\u001b[0m\n\u001b[1;32m      2\u001b[0m \u001b[38;5;28;01mif\u001b[39;00m mode \u001b[38;5;241m==\u001b[39m \u001b[38;5;124m'\u001b[39m\u001b[38;5;124mdebug\u001b[39m\u001b[38;5;124m'\u001b[39m:\n\u001b[1;32m      3\u001b[0m     \u001b[38;5;28;01mfor\u001b[39;00m date \u001b[38;5;129;01min\u001b[39;00m dates:\n\u001b[0;32m----> 4\u001b[0m         \u001b[43mget_month_met\u001b[49m\u001b[43m(\u001b[49m\u001b[43mstation_list\u001b[49m\u001b[43m,\u001b[49m\u001b[43m \u001b[49m\u001b[43mdate\u001b[49m\u001b[43m,\u001b[49m\u001b[43m \u001b[49m\u001b[43mout_data\u001b[49m\u001b[43m,\u001b[49m\u001b[43m \u001b[49m\u001b[43moverwrite\u001b[49m\u001b[43m,\u001b[49m\u001b[43m \u001b[49m\u001b[43mbounds\u001b[49m\u001b[43m,\u001b[49m\u001b[43m \u001b[49m\u001b[43moutput_target\u001b[49m\u001b[43m)\u001b[49m\n\u001b[1;32m      6\u001b[0m \u001b[38;5;28;01melif\u001b[39;00m mode \u001b[38;5;241m==\u001b[39m \u001b[38;5;124m'\u001b[39m\u001b[38;5;124mmulti\u001b[39m\u001b[38;5;124m'\u001b[39m:\n\u001b[1;32m      7\u001b[0m     \u001b[38;5;28;01mwith\u001b[39;00m concurrent\u001b[38;5;241m.\u001b[39mfutures\u001b[38;5;241m.\u001b[39mProcessPoolExecutor(max_workers\u001b[38;5;241m=\u001b[39mworkers) \u001b[38;5;28;01mas\u001b[39;00m executor:\n",
      "Cell \u001b[0;32mIn[11], line 44\u001b[0m, in \u001b[0;36mget_month_met\u001b[0;34m(station_list_, date_, out_data, overwrite, bounds_, output_mode)\u001b[0m\n\u001b[1;32m     42\u001b[0m     station_list_[[\u001b[38;5;124m'\u001b[39m\u001b[38;5;124mx\u001b[39m\u001b[38;5;124m'\u001b[39m, \u001b[38;5;124m'\u001b[39m\u001b[38;5;124my\u001b[39m\u001b[38;5;124m'\u001b[39m]] \u001b[38;5;241m=\u001b[39m station_list_\u001b[38;5;241m.\u001b[39mapply(projected_coords, axis\u001b[38;5;241m=\u001b[39m\u001b[38;5;241m1\u001b[39m, result_type\u001b[38;5;241m=\u001b[39m\u001b[38;5;124m'\u001b[39m\u001b[38;5;124mexpand\u001b[39m\u001b[38;5;124m'\u001b[39m)\n\u001b[1;32m     43\u001b[0m     station_list_ \u001b[38;5;241m=\u001b[39m station_list_\u001b[38;5;241m.\u001b[39mto_xarray()\n\u001b[0;32m---> 44\u001b[0m     ds \u001b[38;5;241m=\u001b[39m \u001b[43mds\u001b[49m\u001b[38;5;241;43m.\u001b[39;49m\u001b[43msel\u001b[49m\u001b[43m(\u001b[49m\u001b[43my\u001b[49m\u001b[38;5;241;43m=\u001b[39;49m\u001b[43mstation_list_\u001b[49m\u001b[38;5;241;43m.\u001b[39;49m\u001b[43my\u001b[49m\u001b[43m,\u001b[49m\u001b[43m \u001b[49m\u001b[43mx\u001b[49m\u001b[38;5;241;43m=\u001b[39;49m\u001b[43mstation_list_\u001b[49m\u001b[38;5;241;43m.\u001b[39;49m\u001b[43mx\u001b[49m\u001b[43m,\u001b[49m\u001b[43m \u001b[49m\u001b[43mmethod\u001b[49m\u001b[38;5;241;43m=\u001b[39;49m\u001b[38;5;124;43m'\u001b[39;49m\u001b[38;5;124;43mnearest\u001b[39;49m\u001b[38;5;124;43m'\u001b[39;49m\u001b[43m,\u001b[49m\u001b[43m \u001b[49m\u001b[43mtolerance\u001b[49m\u001b[38;5;241;43m=\u001b[39;49m\u001b[38;5;241;43m4000\u001b[39;49m\u001b[43m)\u001b[49m\n\u001b[1;32m     46\u001b[0m \u001b[38;5;28mprint\u001b[39m(ds)\n\u001b[1;32m     47\u001b[0m ds \u001b[38;5;241m=\u001b[39m xr\u001b[38;5;241m.\u001b[39mmerge([station_list_, ds])\n",
      "File \u001b[0;32m~/miniconda3/envs/hyt/lib/python3.10/site-packages/xarray/core/dataset.py:3184\u001b[0m, in \u001b[0;36mDataset.sel\u001b[0;34m(self, indexers, method, tolerance, drop, **indexers_kwargs)\u001b[0m\n\u001b[1;32m   3116\u001b[0m \u001b[38;5;250m\u001b[39m\u001b[38;5;124;03m\"\"\"Returns a new dataset with each array indexed by tick labels\u001b[39;00m\n\u001b[1;32m   3117\u001b[0m \u001b[38;5;124;03malong the specified dimension(s).\u001b[39;00m\n\u001b[1;32m   3118\u001b[0m \n\u001b[0;32m   (...)\u001b[0m\n\u001b[1;32m   3181\u001b[0m \n\u001b[1;32m   3182\u001b[0m \u001b[38;5;124;03m\"\"\"\u001b[39;00m\n\u001b[1;32m   3183\u001b[0m indexers \u001b[38;5;241m=\u001b[39m either_dict_or_kwargs(indexers, indexers_kwargs, \u001b[38;5;124m\"\u001b[39m\u001b[38;5;124msel\u001b[39m\u001b[38;5;124m\"\u001b[39m)\n\u001b[0;32m-> 3184\u001b[0m query_results \u001b[38;5;241m=\u001b[39m \u001b[43mmap_index_queries\u001b[49m\u001b[43m(\u001b[49m\n\u001b[1;32m   3185\u001b[0m \u001b[43m    \u001b[49m\u001b[38;5;28;43mself\u001b[39;49m\u001b[43m,\u001b[49m\u001b[43m \u001b[49m\u001b[43mindexers\u001b[49m\u001b[38;5;241;43m=\u001b[39;49m\u001b[43mindexers\u001b[49m\u001b[43m,\u001b[49m\u001b[43m \u001b[49m\u001b[43mmethod\u001b[49m\u001b[38;5;241;43m=\u001b[39;49m\u001b[43mmethod\u001b[49m\u001b[43m,\u001b[49m\u001b[43m \u001b[49m\u001b[43mtolerance\u001b[49m\u001b[38;5;241;43m=\u001b[39;49m\u001b[43mtolerance\u001b[49m\n\u001b[1;32m   3186\u001b[0m \u001b[43m\u001b[49m\u001b[43m)\u001b[49m\n\u001b[1;32m   3188\u001b[0m \u001b[38;5;28;01mif\u001b[39;00m drop:\n\u001b[1;32m   3189\u001b[0m     no_scalar_variables \u001b[38;5;241m=\u001b[39m {}\n",
      "File \u001b[0;32m~/miniconda3/envs/hyt/lib/python3.10/site-packages/xarray/core/indexing.py:193\u001b[0m, in \u001b[0;36mmap_index_queries\u001b[0;34m(obj, indexers, method, tolerance, **indexers_kwargs)\u001b[0m\n\u001b[1;32m    191\u001b[0m         results\u001b[38;5;241m.\u001b[39mappend(IndexSelResult(labels))\n\u001b[1;32m    192\u001b[0m     \u001b[38;5;28;01melse\u001b[39;00m:\n\u001b[0;32m--> 193\u001b[0m         results\u001b[38;5;241m.\u001b[39mappend(\u001b[43mindex\u001b[49m\u001b[38;5;241;43m.\u001b[39;49m\u001b[43msel\u001b[49m\u001b[43m(\u001b[49m\u001b[43mlabels\u001b[49m\u001b[43m,\u001b[49m\u001b[43m \u001b[49m\u001b[38;5;241;43m*\u001b[39;49m\u001b[38;5;241;43m*\u001b[39;49m\u001b[43moptions\u001b[49m\u001b[43m)\u001b[49m)\n\u001b[1;32m    195\u001b[0m merged \u001b[38;5;241m=\u001b[39m merge_sel_results(results)\n\u001b[1;32m    197\u001b[0m \u001b[38;5;66;03m# drop dimension coordinates found in dimension indexers\u001b[39;00m\n\u001b[1;32m    198\u001b[0m \u001b[38;5;66;03m# (also drop multi-index if any)\u001b[39;00m\n\u001b[1;32m    199\u001b[0m \u001b[38;5;66;03m# (.sel() already ensures alignment)\u001b[39;00m\n",
      "File \u001b[0;32m~/miniconda3/envs/hyt/lib/python3.10/site-packages/xarray/core/indexes.py:801\u001b[0m, in \u001b[0;36mPandasIndex.sel\u001b[0;34m(self, labels, method, tolerance)\u001b[0m\n\u001b[1;32m    799\u001b[0m     indexer \u001b[38;5;241m=\u001b[39m get_indexer_nd(\u001b[38;5;28mself\u001b[39m\u001b[38;5;241m.\u001b[39mindex, label_array, method, tolerance)\n\u001b[1;32m    800\u001b[0m     \u001b[38;5;28;01mif\u001b[39;00m np\u001b[38;5;241m.\u001b[39many(indexer \u001b[38;5;241m<\u001b[39m \u001b[38;5;241m0\u001b[39m):\n\u001b[0;32m--> 801\u001b[0m         \u001b[38;5;28;01mraise\u001b[39;00m \u001b[38;5;167;01mKeyError\u001b[39;00m(\u001b[38;5;124mf\u001b[39m\u001b[38;5;124m\"\u001b[39m\u001b[38;5;124mnot all values found in index \u001b[39m\u001b[38;5;132;01m{\u001b[39;00mcoord_name\u001b[38;5;132;01m!r}\u001b[39;00m\u001b[38;5;124m\"\u001b[39m)\n\u001b[1;32m    803\u001b[0m \u001b[38;5;66;03m# attach dimension names and/or coordinates to positional indexer\u001b[39;00m\n\u001b[1;32m    804\u001b[0m \u001b[38;5;28;01mif\u001b[39;00m \u001b[38;5;28misinstance\u001b[39m(label, Variable):\n",
      "\u001b[0;31mKeyError\u001b[0m: \"not all values found in index 'y'\""
     ]
    }
   ],
   "source": [
    "output_target = 'ba'\n",
    "if mode == 'debug':\n",
    "    for date in dates:\n",
    "        get_month_met(station_list, date, out_data, overwrite, bounds, output_target)\n",
    "\n",
    "elif mode == 'multi':\n",
    "    with concurrent.futures.ProcessPoolExecutor(max_workers=workers) as executor:\n",
    "        futures = [\n",
    "            executor.submit(get_month_met, station_list, dt, out_data, overwrite, bounds, output_target)\n",
    "            for dt in dates]\n",
    "        concurrent.futures.wait(futures)\n",
    "\n",
    "elif mode == 'dask':\n",
    "    cluster = LocalCluster(n_workers=workers, memory_limit='32GB', threads_per_worker=1,\n",
    "                           silence_logs=logging.ERROR)\n",
    "    client = Client(cluster)\n",
    "    print(\"Dask cluster started with dashboard at:\", client.dashboard_link)\n",
    "    station_list = client.scatter(station_list)\n",
    "    tasks = [dask.delayed(get_month_met)(station_list, date, out_data, overwrite, bounds, output_target)\n",
    "             for date in\n",
    "             dates]\n",
    "    dask.compute(*tasks)\n",
    "    client.close()"
   ]
  },
  {
   "cell_type": "code",
   "execution_count": null,
   "id": "119f20a3-eb82-4720-bca5-1294d01fd2b6",
   "metadata": {},
   "outputs": [],
   "source": []
  }
 ],
 "metadata": {
  "kernelspec": {
   "display_name": "hyt",
   "language": "python",
   "name": "hyt"
  },
  "language_info": {
   "codemirror_mode": {
    "name": "ipython",
    "version": 3
   },
   "file_extension": ".py",
   "mimetype": "text/x-python",
   "name": "python",
   "nbconvert_exporter": "python",
   "pygments_lexer": "ipython3",
   "version": "3.10.14"
  }
 },
 "nbformat": 4,
 "nbformat_minor": 5
}
