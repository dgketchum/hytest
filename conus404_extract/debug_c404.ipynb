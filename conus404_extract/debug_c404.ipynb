{
 "cells": [
  {
   "cell_type": "code",
   "execution_count": null,
   "id": "initial_id",
   "metadata": {
    "collapsed": true
   },
   "outputs": [],
   "source": [
    "import calendar\n",
    "import logging\n",
    "import os\n",
    "import concurrent.futures\n",
    "import numpy as np\n",
    "import pandas as pd\n",
    "import xarray as xr\n",
    "import xoak\n",
    "import dask\n",
    "from dask.diagnostics import ProgressBar\n",
    "from dask.distributed import Client, LocalCluster"
   ]
  },
  {
   "metadata": {},
   "cell_type": "code",
   "outputs": [],
   "execution_count": null,
   "source": [
    "r = '/caldera/hovenweep/projects/usgs/water'\n",
    "d = os.path.join(r, 'wymtwsc', 'dketchum')\n",
    "c404 = os.path.join(d, 'conus404')\n",
    "dads = os.path.join(d, 'dads')\n",
    "ghcn = os.path.join(d, 'climate', 'ghcn')\n",
    "\n",
    "zarr_store = os.path.join(r, 'impd/hytest/conus404/conus404_hourly.zarr')\n",
    "sites = os.path.join(dads, 'met', 'stations', 'madis_29OCT2024.csv')\n",
    "csv_files = os.path.join(c404, 'station_data')"
   ],
   "id": "b7878a77d059eb84"
  },
  {
   "metadata": {},
   "cell_type": "code",
   "outputs": [],
   "execution_count": null,
   "source": [
    "stations = sites\n",
    "nc_data = zarr_store\n",
    "out_data = csv_files\n",
    "workers=8\n",
    "overwrite=False\n",
    "bounds=None\n",
    "start_yr=2023\n",
    "end_yr=2023\n",
    "mode = 'debug'"
   ],
   "id": "a2205f6c4d297eac"
  },
  {
   "metadata": {},
   "cell_type": "code",
   "outputs": [],
   "execution_count": null,
   "source": [
    "station_list = pd.read_csv(stations)\n",
    "if 'LAT' in station_list.columns:\n",
    "    station_list = station_list.rename(columns={'STAID': 'fid', 'LAT': 'latitude', 'LON': 'longitude'})\n",
    "station_list.index = station_list['fid']\n",
    "\n",
    "if bounds:\n",
    "    w, s, e, n = bounds\n",
    "    station_list = station_list[(station_list['latitude'] < n) & (station_list['latitude'] >= s)]\n",
    "    station_list = station_list[(station_list['longitude'] < e) & (station_list['longitude'] >= w)]\n",
    "\n",
    "print(f'{len(station_list)} stations to write')\n",
    "\n",
    "dates = [(year, month, calendar.monthrange(year, month)[-1])\n",
    "         for year in range(start_yr, end_yr + 1) for month in range(1, 13)]\n"
   ],
   "id": "74f3b53980cb32b3"
  },
  {
   "metadata": {},
   "cell_type": "code",
   "outputs": [],
   "execution_count": null,
   "source": [
    "def get_month_met(nc_data_, station_list_, date_, out_data, overwrite):\n",
    "    \"\"\"\"\"\"\n",
    "    year, month, month_end = date_\n",
    "    date_string = '{}-{}'.format(year, str(month).rjust(2, '0'))\n",
    "\n",
    "    variables = ['T2', 'TD2', 'QVAPOR', 'U10', 'V10', 'PSFC', 'ACSWDNLSM']\n",
    "    fids = station_list_.index.to_list()\n",
    "    station_list_ = station_list_.to_xarray()\n",
    "\n",
    "    print(f'read zarr {date_string} ')\n",
    "    ds = xr.open_zarr(nc_data_, consolidated=True, chunks='auto')\n",
    "    print(f'select time {date_string} ')\n",
    "    ds = ds.sel(time=slice(f'{year}-{month}-01', f'{year}-{month}-{month_end}'))\n",
    "    ds = ds[variables]\n",
    "    print(f'index stations {date_string} ')\n",
    "    ds.xoak.set_index(['lat', 'lon'], 'sklearn_geo_balltree')\n",
    "    ds = ds.xoak.sel(lat=station_list_.latitude, lon=station_list_.longitude)\n",
    "    ds = xr.merge([station_list_, ds])\n",
    "\n",
    "    all_df = ds.to_dataframe()\n",
    "    print(f'write {date_string} from dataframe...')\n",
    "\n",
    "    try:\n",
    "        ct = 0\n",
    "        for fid in fids:\n",
    "            dst_dir = os.path.join(out_data, fid)\n",
    "            if not os.path.exists(dst_dir):\n",
    "                os.mkdir(dst_dir)\n",
    "            _file = os.path.join(dst_dir, f'{fid}_{date_string}.parquet')\n",
    "            if not os.path.exists(_file) or overwrite:\n",
    "                df_station = all_df.loc[slice(fid), slice(None)].copy()\n",
    "                df_station = df_station.groupby(df_station.index.get_level_values('time')).first()\n",
    "                df_station['dt'] = [i.strftime('%Y%m%d%H') for i in df_station.index]\n",
    "                df_station.to_parquet(_file, index=False)\n",
    "                ct += 1\n",
    "        if ct % 1000 == 0.:\n",
    "            print(f'{ct} for {date_string}')\n",
    "    except Exception as exc:\n",
    "        print(f'{date_string}: {exc}')\n",
    "\n",
    "    del ds"
   ],
   "id": "c18acd2e838f671b"
  },
  {
   "metadata": {},
   "cell_type": "code",
   "outputs": [],
   "execution_count": null,
   "source": [
    "\n",
    "if mode == 'debug':\n",
    "    for date in dates:\n",
    "        get_month_met(nc_data, station_list, date, out_data, overwrite)\n",
    "\n",
    "elif mode == 'multi':\n",
    "    with concurrent.futures.ProcessPoolExecutor(max_workers=workers) as executor:\n",
    "        futures = [executor.submit(get_month_met, nc_data, station_list, dt, out_data, overwrite)\n",
    "                   for dt in dates]\n",
    "        concurrent.futures.wait(futures)\n",
    "\n",
    "elif mode == 'dask':\n",
    "    cluster = LocalCluster(n_workers=workers, memory_limit='32GB', threads_per_worker=1,\n",
    "                           silence_logs=logging.ERROR)\n",
    "    client = Client(cluster)\n",
    "    print(\"Dask cluster started with dashboard at:\", client.dashboard_link)\n",
    "    station_list = client.scatter(station_list)\n",
    "    tasks = [dask.delayed(get_month_met)(nc_data, station_list, date, out_data, overwrite) for date in dates]\n",
    "    dask.compute(*tasks)\n",
    "    client.close()"
   ],
   "id": "fc0d5f689cdaaf85"
  }
 ],
 "metadata": {
  "kernelspec": {
   "display_name": "Python 3",
   "language": "python",
   "name": "python3"
  },
  "language_info": {
   "codemirror_mode": {
    "name": "ipython",
    "version": 2
   },
   "file_extension": ".py",
   "mimetype": "text/x-python",
   "name": "python",
   "nbconvert_exporter": "python",
   "pygments_lexer": "ipython2",
   "version": "2.7.6"
  }
 },
 "nbformat": 4,
 "nbformat_minor": 5
}
