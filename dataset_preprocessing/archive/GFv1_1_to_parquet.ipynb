{
 "cells": [
  {
   "cell_type": "markdown",
   "id": "3e91a2ec-e556-4f1d-bd61-f3b34f8d4646",
   "metadata": {},
   "source": [
    "# Geofabric v1.1 to parquet\n",
    "\n",
    "This notebook processes the GIS Features of the Geospatial Fabric for the National Hydrologic Model, version 1.1 (https://doi.org/10.5066/P971JAGF) into several parquet files and saves them to the OSN pod."
   ]
  },
  {
   "cell_type": "code",
   "execution_count": null,
   "id": "c21bdb8d-da0a-4231-9707-51c58bd21209",
   "metadata": {
    "tags": []
   },
   "outputs": [],
   "source": [
    "import fsspec\n",
    "import geopandas as gpd\n",
    "import intake\n",
    "import os\n",
    "import yaml\n",
    "import intake_sqlite"
   ]
  },
  {
   "cell_type": "code",
   "execution_count": null,
   "id": "4133edab-e5dd-4e28-bb0e-7349b6a7d3e6",
   "metadata": {
    "tags": []
   },
   "outputs": [],
   "source": [
    "def convert_size(size_bytes):\n",
    "   if size_bytes == 0:\n",
    "       return \"0B\"\n",
    "   size_name = (\"B\", \"KB\", \"MB\", \"GB\", \"TB\", \"PB\", \"EB\", \"ZB\", \"YB\")\n",
    "   i = int(math.floor(math.log(size_bytes, 1024)))\n",
    "   p = math.pow(1024, i)\n",
    "   s = round(size_bytes / p, 2)\n",
    "   return \"%s %s\" % (s, size_name[i])"
   ]
  },
  {
   "cell_type": "code",
   "execution_count": null,
   "id": "cbe1cd50-21e1-4f54-b3f9-111b921bac12",
   "metadata": {
    "tags": []
   },
   "outputs": [],
   "source": [
    "hytest_cat = intake.open_catalog(\"../../../dataset_catalog/hytest_intake_catalog.yml\")\n",
    "list(hytest_cat)"
   ]
  },
  {
   "cell_type": "code",
   "execution_count": null,
   "id": "f5cf182a-aa94-464c-b8ac-8606b87fe91a",
   "metadata": {
    "tags": []
   },
   "outputs": [],
   "source": [
    "# read in GFv1.1 GDB from OSN pod\n",
    "fp = hytest_cat['geofabric_v1_1-zip-osn'].urlpath.split('s3://')[1]\n",
    "endpoint_url = hytest_cat['geofabric_v1_1-zip-osn'].storage_options['client_kwargs']['endpoint_url']\n",
    "gdb_file = f'zip+{endpoint_url}/{fp}'"
   ]
  },
  {
   "cell_type": "code",
   "execution_count": null,
   "id": "ad7f6029-73f9-4a32-a939-1ed2b958124e",
   "metadata": {
    "tags": []
   },
   "outputs": [],
   "source": [
    "# select layer of GDP to write to parquet\n",
    "layer = 'nhru_v1_1'\n",
    "#layer = 'nhru_v1_1_simp'\n",
    "#layer = 'nsegment_v1_1'\n",
    "#layer = 'POIs_v1_1'\n",
    "#layer = 'TBtoGFv1_POIs'\n",
    "gf = gpd.read_file(gdb_file, layer=layer)"
   ]
  },
  {
   "cell_type": "code",
   "execution_count": null,
   "id": "48898d03-b445-4166-a88d-12fe0ca2e51e",
   "metadata": {
    "tags": []
   },
   "outputs": [],
   "source": [
    "gf.head()"
   ]
  },
  {
   "cell_type": "code",
   "execution_count": null,
   "id": "bd38fb7a-4241-4dd8-8299-7638693547fe",
   "metadata": {
    "tags": []
   },
   "outputs": [],
   "source": [
    "fs_hytest = fsspec.filesystem(\n",
    "    's3',\n",
    "    profile='osn-hytest',  ## aws profile name for bucket you are writing data to\n",
    "    client_kwargs={'endpoint_url': 'https://usgs.osn.mghpcc.org'}\n",
    ")"
   ]
  },
  {
   "cell_type": "code",
   "execution_count": null,
   "id": "23a0bcc2-520b-4e3d-8eb8-7f64ad595930",
   "metadata": {
    "tags": []
   },
   "outputs": [],
   "source": [
    "fname=f'hytest/geofabric_v1_1/GFv1.1_{layer}.geoparquet'\n",
    "with fs_hytest.open(fname, mode='wb') as f:\n",
    "    gf.to_parquet(f)"
   ]
  },
  {
   "cell_type": "code",
   "execution_count": null,
   "id": "7e8ebd14-075f-4d84-81ea-e6cd091770ec",
   "metadata": {
    "tags": []
   },
   "outputs": [],
   "source": [
    "print(f'size of parquet: {convert_size(fs_hytest.size(fname))}')"
   ]
  }
 ],
 "metadata": {
  "kernelspec": {
   "display_name": "global-global-pangeo",
   "language": "python",
   "name": "conda-env-global-global-pangeo-py"
  },
  "language_info": {
   "codemirror_mode": {
    "name": "ipython",
    "version": 3
   },
   "file_extension": ".py",
   "mimetype": "text/x-python",
   "name": "python",
   "nbconvert_exporter": "python",
   "pygments_lexer": "ipython3",
   "version": "3.11.6"
  }
 },
 "nbformat": 4,
 "nbformat_minor": 5
}
