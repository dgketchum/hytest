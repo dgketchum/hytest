{
 "cells": [
  {
   "cell_type": "code",
   "execution_count": null,
   "metadata": {},
   "outputs": [],
   "source": [
    "import os\n",
    "import fsspec\n",
    "import pandas as pd\n",
    "os.getcwd()"
   ]
  },
  {
   "cell_type": "code",
   "execution_count": null,
   "metadata": {},
   "outputs": [],
   "source": [
    "file_list = os.listdir('data')\n",
    "print(file_list)"
   ]
  },
  {
   "cell_type": "code",
   "execution_count": null,
   "metadata": {},
   "outputs": [],
   "source": [
    "fs_write = fsspec.filesystem(\n",
    "    's3',\n",
    "    profile='osn-hytest-internal',  ## aws profile name for bucket you are writing data to\n",
    "    client_kwargs={'endpoint_url': 'https://usgs.osn.mghpcc.org'}\n",
    ")"
   ]
  },
  {
   "cell_type": "code",
   "execution_count": null,
   "metadata": {
    "tags": []
   },
   "outputs": [],
   "source": [
    "fs_write.ls('hytest-internal/nhm_prms_v1_1_gridmet/raw_data')"
   ]
  },
  {
   "cell_type": "code",
   "execution_count": null,
   "metadata": {},
   "outputs": [],
   "source": [
    "complete_df = pd.DataFrame(columns=['huc12', 'date'])\n",
    "for f in file_list:\n",
    "    var_name = f.split('_mo')[0].split('huc12_')[1]\n",
    "    print(var_name)\n",
    "    df = pd.read_csv(os.path.join('data', f), dtype={'huc12': 'string'})\n",
    "    #print(df.head())\n",
    "    long_df = pd.melt(df, id_vars='huc12', var_name='date', value_name=var_name)\n",
    "    complete_df = complete_df.merge(long_df, on=['huc12', 'date'], how='right')\n",
    "    #print(complete_df.head())\n",
    "    fname=f'hytest-internal/nhm_prms_v1_1_gridmet/raw_data/{f}'\n",
    "    print(f'writing {fname}')\n",
    "    outfile = fs_write.open(fname, mode='w')\n",
    "    print(df.head())\n",
    "    df.to_csv(outfile, index=False)\n",
    "complete_df['date'] =  pd.to_datetime(complete_df['date'], format='%Y-%m')\n",
    "complete_fname='hytest-internal/nhm_prms_v1_1_gridmet/nhm_prms_v1_1_gridmet.csv'\n",
    "print(f'writing {complete_fname}')\n",
    "#complete_df['huc12'] = complete_df[\"huc12\"].map(str)\n",
    "complete_outfile = fs_write.open(complete_fname, mode='w')\n",
    "complete_df.to_csv(complete_outfile, index=False)"
   ]
  },
  {
   "cell_type": "code",
   "execution_count": null,
   "metadata": {},
   "outputs": [],
   "source": [
    "fs_write.ls('hytest-internal/nhm_prms_v1_1_gridmet')"
   ]
  }
 ],
 "metadata": {
  "kernelspec": {
   "display_name": "default *",
   "language": "python",
   "name": "conda-env-default-py"
  },
  "language_info": {
   "codemirror_mode": {
    "name": "ipython",
    "version": 3
   },
   "file_extension": ".py",
   "mimetype": "text/x-python",
   "name": "python",
   "nbconvert_exporter": "python",
   "pygments_lexer": "ipython3",
   "version": "3.10.13"
  }
 },
 "nbformat": 4,
 "nbformat_minor": 4
}
