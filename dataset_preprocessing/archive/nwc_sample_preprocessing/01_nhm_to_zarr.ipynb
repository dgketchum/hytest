{
 "cells": [
  {
   "cell_type": "code",
   "execution_count": null,
   "id": "5290e66f-d77c-47db-9e62-c7ddcb6be233",
   "metadata": {},
   "outputs": [],
   "source": [
    "import os\n",
    "import fsspec\n",
    "import pandas as pd\n",
    "import math"
   ]
  },
  {
   "cell_type": "code",
   "execution_count": null,
   "id": "2e4fc988-e40d-4706-ad58-5c208b7dd570",
   "metadata": {},
   "outputs": [],
   "source": [
    "def convert_size(size_bytes):\n",
    "   if size_bytes == 0:\n",
    "       return \"0B\"\n",
    "   size_name = (\"B\", \"KB\", \"MB\", \"GB\", \"TB\", \"PB\", \"EB\", \"ZB\", \"YB\")\n",
    "   i = int(math.floor(math.log(size_bytes, 1024)))\n",
    "   p = math.pow(1024, i)\n",
    "   s = round(size_bytes / p, 2)\n",
    "   return \"%s %s\" % (s, size_name[i])"
   ]
  },
  {
   "cell_type": "code",
   "execution_count": null,
   "id": "bbd633a5-f9eb-4bed-80ac-9deebb97d43d",
   "metadata": {},
   "outputs": [],
   "source": [
    "fname='hytest-internal/nhm_prms_v1_1_gridmet/nhm_prms_v1_1_gridmet.csv'"
   ]
  },
  {
   "cell_type": "code",
   "execution_count": null,
   "id": "1c1af300-2553-4c7c-9194-b3328e288899",
   "metadata": {},
   "outputs": [],
   "source": [
    "fs_write = fsspec.filesystem(\n",
    "    's3',\n",
    "    profile='osn-hytest-internal',  ## aws profile name for bucket you are writing data to\n",
    "    client_kwargs={'endpoint_url': 'https://usgs.osn.mghpcc.org'}\n",
    ")"
   ]
  },
  {
   "cell_type": "code",
   "execution_count": null,
   "id": "59328c13-b81a-4191-8745-43fcdd4d9e28",
   "metadata": {},
   "outputs": [],
   "source": [
    "fs_write.ls('hytest-internal/nhm_prms_v1_1_gridmet/')"
   ]
  },
  {
   "cell_type": "code",
   "execution_count": null,
   "id": "5d57c87b-84b4-443c-b377-a58ea06cb68a",
   "metadata": {},
   "outputs": [],
   "source": [
    "total_size = 0\n",
    "for f in fs_write.ls('hytest-internal/nhm_prms_v1_1_gridmet/raw_data'):\n",
    "    print(os.path.split(f)[1])\n",
    "    file_size = fs_write.size(f)\n",
    "    print(convert_size(file_size))\n",
    "    total_size+=file_size\n",
    "print(f'total size of raw data: {convert_size(total_size)}')"
   ]
  },
  {
   "cell_type": "code",
   "execution_count": null,
   "id": "c8dae21b-8690-43d9-87a3-122880ab29e2",
   "metadata": {},
   "outputs": [],
   "source": [
    "print(f'size of long csv: {convert_size(fs_write.size(fname))}')"
   ]
  },
  {
   "cell_type": "code",
   "execution_count": null,
   "id": "191f445d-1550-4ce7-ad0e-a4cd4ed2d934",
   "metadata": {},
   "outputs": [],
   "source": [
    "with fs_write.open(fname, mode='rt') as f:\n",
    "    df = pd.read_csv(f, dtype={'huc12': 'str'}, parse_dates=['date'])\n",
    "    #print(f.readlines()[1])"
   ]
  },
  {
   "cell_type": "code",
   "execution_count": null,
   "id": "01680111-c733-4c68-bbf2-1fc3c3d67429",
   "metadata": {},
   "outputs": [],
   "source": [
    "df = df.rename(columns={'date': 'time'})"
   ]
  },
  {
   "cell_type": "code",
   "execution_count": null,
   "id": "4e90296e-033e-42d4-ad2e-85e07832d2d7",
   "metadata": {},
   "outputs": [],
   "source": [
    "df.head(2)"
   ]
  },
  {
   "cell_type": "code",
   "execution_count": null,
   "id": "8b286ca9-4c30-48bb-bfce-6a520a4c8103",
   "metadata": {},
   "outputs": [],
   "source": [
    "df.dtypes"
   ]
  },
  {
   "cell_type": "code",
   "execution_count": null,
   "id": "09ca2bda-3f85-4b5f-b4a8-6b8fa567827f",
   "metadata": {},
   "outputs": [],
   "source": [
    "ds = df.set_index(['time', 'huc12']).to_xarray()"
   ]
  },
  {
   "cell_type": "code",
   "execution_count": null,
   "id": "76740a70-f5f0-4257-8478-90630b3a54f6",
   "metadata": {},
   "outputs": [],
   "source": [
    "ds"
   ]
  },
  {
   "cell_type": "code",
   "execution_count": null,
   "id": "406532e8-e689-47bc-809e-09fe043c4576",
   "metadata": {},
   "outputs": [],
   "source": [
    "# write to zarr\n",
    "zarr_path = 'hytest-internal/nhm_prms_v1_1_gridmet/nhm_prms_v1_1_gridmet.zarr'\n",
    "outfile=fs_write.get_mapper(zarr_path)\n",
    "ds.to_zarr(outfile, mode='w', consolidated=True)"
   ]
  },
  {
   "cell_type": "code",
   "execution_count": null,
   "id": "c14afc2b-603b-4d5e-a71a-807c59cb57e4",
   "metadata": {},
   "outputs": [],
   "source": [
    "print(f'size of zarr: {convert_size(fs_write.disk_usage(zarr_path))}')"
   ]
  },
  {
   "cell_type": "code",
   "execution_count": null,
   "id": "8834add0-578f-40a3-8fe6-51124a1064d0",
   "metadata": {},
   "outputs": [],
   "source": []
  }
 ],
 "metadata": {
  "kernelspec": {
   "display_name": "global-global-pangeo",
   "language": "python",
   "name": "conda-env-global-global-pangeo-py"
  },
  "language_info": {
   "codemirror_mode": {
    "name": "ipython",
    "version": 3
   },
   "file_extension": ".py",
   "mimetype": "text/x-python",
   "name": "python",
   "nbconvert_exporter": "python",
   "pygments_lexer": "ipython3",
   "version": "3.11.6"
  }
 },
 "nbformat": 4,
 "nbformat_minor": 5
}
