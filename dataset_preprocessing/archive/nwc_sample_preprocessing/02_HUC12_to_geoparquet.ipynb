{
 "cells": [
  {
   "cell_type": "code",
   "execution_count": 2,
   "id": "2f993886-6079-4e5d-9a60-90ee39ca6098",
   "metadata": {},
   "outputs": [],
   "source": [
    "from pynhd import NLDI, WaterData\n",
    "import fsspec\n",
    "import boto3\n",
    "import geopandas as gpd\n",
    "import math"
   ]
  },
  {
   "cell_type": "raw",
   "id": "9f43a1b0-b6a4-45bc-9162-787f72db451b",
   "metadata": {},
   "source": [
    "# USGS gage 01482100 Delaware River at Del Mem Bridge at Wilmington De\n",
    "gage_id = '01482100'\n",
    "nldi = NLDI()\n",
    "del_basins = nldi.get_basins(gage_id)\n",
    "huc12_basins_del = WaterData('wbd12').bygeom(del_basins.geometry[0])\n",
    "#huc12_basins = WaterData('huc12')\n",
    "huc12_basins_del.plot()"
   ]
  },
  {
   "cell_type": "code",
   "execution_count": 2,
   "id": "3a574520-b75c-4103-9fea-387525bc6988",
   "metadata": {},
   "outputs": [
    {
     "name": "stdout",
     "output_type": "stream",
     "text": [
      "CPU times: user 2 µs, sys: 0 ns, total: 2 µs\n",
      "Wall time: 5.25 µs\n"
     ]
    },
    {
     "ename": "ServiceError",
     "evalue": "Service returned the following error message:\nURL: https://labs.waterdata.usgs.gov/geoserver/wmadata/ows?service=wfs&version=2.0.0&outputFormat=application/json&request=GetFeature&typeName=wmadata:wbd12_20201006&bbox=-124.7844079,24.7433195,-66.9513812,49.3457868,EPSG:4326&srsName=EPSG:4269&startIndex=22000&count=1000&sortBy=objectid\nERROR: <html>\r\n<head><title>502 Bad Gateway</title></head>\r\n<body>\r\n<center><h1>502 Bad Gateway</h1></center>\r\n</body>\r\n</html>\r\n\n",
     "output_type": "error",
     "traceback": [
      "\u001b[0;31m---------------------------------------------------------------------------\u001b[0m",
      "\u001b[0;31mJSONDecodeError\u001b[0m                           Traceback (most recent call last)",
      "File \u001b[0;32m/home/conda/users/bf22927b754254941288297438d5b0c40080bfe1328180b0ce462d277174660c-20230524-082354-778282-197-pangeo/lib/python3.10/site-packages/async_retriever/_utils.py:82\u001b[0m, in \u001b[0;36mretriever\u001b[0;34m(uid, url, s_kwds, session, read_type, r_kwds, raise_status)\u001b[0m\n\u001b[1;32m     81\u001b[0m \u001b[38;5;28;01mtry\u001b[39;00m:\n\u001b[0;32m---> 82\u001b[0m     \u001b[38;5;28;01mreturn\u001b[39;00m uid, \u001b[38;5;28;01mawait\u001b[39;00m \u001b[38;5;28mgetattr\u001b[39m(response, read_type)(\u001b[38;5;241m*\u001b[39m\u001b[38;5;241m*\u001b[39mr_kwds)\n\u001b[1;32m     83\u001b[0m \u001b[38;5;28;01mexcept\u001b[39;00m (ClientResponseError, \u001b[38;5;167;01mValueError\u001b[39;00m) \u001b[38;5;28;01mas\u001b[39;00m ex:\n",
      "File \u001b[0;32m/home/conda/users/bf22927b754254941288297438d5b0c40080bfe1328180b0ce462d277174660c-20230524-082354-778282-197-pangeo/lib/python3.10/site-packages/aiohttp/client_reqrep.py:1120\u001b[0m, in \u001b[0;36mClientResponse.json\u001b[0;34m(self, encoding, loads, content_type)\u001b[0m\n\u001b[1;32m   1118\u001b[0m     encoding \u001b[38;5;241m=\u001b[39m \u001b[38;5;28mself\u001b[39m\u001b[38;5;241m.\u001b[39mget_encoding()\n\u001b[0;32m-> 1120\u001b[0m \u001b[38;5;28;01mreturn\u001b[39;00m \u001b[43mloads\u001b[49m\u001b[43m(\u001b[49m\u001b[43mstripped\u001b[49m\u001b[38;5;241;43m.\u001b[39;49m\u001b[43mdecode\u001b[49m\u001b[43m(\u001b[49m\u001b[43mencoding\u001b[49m\u001b[43m)\u001b[49m\u001b[43m)\u001b[49m\n",
      "\u001b[0;31mJSONDecodeError\u001b[0m: Expected object or value",
      "\nThe above exception was the direct cause of the following exception:\n",
      "\u001b[0;31mServiceError\u001b[0m                              Traceback (most recent call last)",
      "Cell \u001b[0;32mIn[2], line 3\u001b[0m\n\u001b[1;32m      1\u001b[0m \u001b[38;5;66;03m# bbox (west, south, east, north)\u001b[39;00m\n\u001b[1;32m      2\u001b[0m get_ipython()\u001b[38;5;241m.\u001b[39mrun_line_magic(\u001b[38;5;124m'\u001b[39m\u001b[38;5;124mtime\u001b[39m\u001b[38;5;124m'\u001b[39m, \u001b[38;5;124m'\u001b[39m\u001b[38;5;124m'\u001b[39m)\n\u001b[0;32m----> 3\u001b[0m huc12_basins \u001b[38;5;241m=\u001b[39m \u001b[43mWaterData\u001b[49m\u001b[43m(\u001b[49m\u001b[38;5;124;43m'\u001b[39;49m\u001b[38;5;124;43mwbd12\u001b[39;49m\u001b[38;5;124;43m'\u001b[39;49m\u001b[43m)\u001b[49m\u001b[38;5;241;43m.\u001b[39;49m\u001b[43mbybox\u001b[49m\u001b[43m(\u001b[49m\u001b[43m(\u001b[49m\u001b[38;5;241;43m-\u001b[39;49m\u001b[38;5;241;43m124.7844079\u001b[39;49m\u001b[43m,\u001b[49m\u001b[43m \u001b[49m\u001b[38;5;241;43m24.7433195\u001b[39;49m\u001b[43m,\u001b[49m\u001b[43m \u001b[49m\u001b[38;5;241;43m-\u001b[39;49m\u001b[38;5;241;43m66.9513812\u001b[39;49m\u001b[43m,\u001b[49m\u001b[43m \u001b[49m\u001b[38;5;241;43m49.3457868\u001b[39;49m\u001b[43m)\u001b[49m\u001b[43m,\u001b[49m\u001b[43m \u001b[49m\u001b[43mbox_crs\u001b[49m\u001b[38;5;241;43m=\u001b[39;49m\u001b[38;5;241;43m4326\u001b[39;49m\u001b[43m)\u001b[49m\n",
      "File \u001b[0;32m/home/conda/users/bf22927b754254941288297438d5b0c40080bfe1328180b0ce462d277174660c-20230524-082354-778282-197-pangeo/lib/python3.10/site-packages/pynhd/pynhd.py:406\u001b[0m, in \u001b[0;36mWaterData.bybox\u001b[0;34m(self, bbox, box_crs, sort_attr)\u001b[0m\n\u001b[1;32m    383\u001b[0m \u001b[38;5;28;01mdef\u001b[39;00m \u001b[38;5;21mbybox\u001b[39m(\n\u001b[1;32m    384\u001b[0m     \u001b[38;5;28mself\u001b[39m,\n\u001b[1;32m    385\u001b[0m     bbox: \u001b[38;5;28mtuple\u001b[39m[\u001b[38;5;28mfloat\u001b[39m, \u001b[38;5;28mfloat\u001b[39m, \u001b[38;5;28mfloat\u001b[39m, \u001b[38;5;28mfloat\u001b[39m],\n\u001b[1;32m    386\u001b[0m     box_crs: CRSTYPE \u001b[38;5;241m=\u001b[39m \u001b[38;5;241m4326\u001b[39m,\n\u001b[1;32m    387\u001b[0m     sort_attr: \u001b[38;5;28mstr\u001b[39m \u001b[38;5;241m|\u001b[39m \u001b[38;5;28;01mNone\u001b[39;00m \u001b[38;5;241m=\u001b[39m \u001b[38;5;28;01mNone\u001b[39;00m,\n\u001b[1;32m    388\u001b[0m ) \u001b[38;5;241m-\u001b[39m\u001b[38;5;241m>\u001b[39m gpd\u001b[38;5;241m.\u001b[39mGeoDataFrame:\n\u001b[1;32m    389\u001b[0m \u001b[38;5;250m    \u001b[39m\u001b[38;5;124;03m\"\"\"Get features within a bounding box.\u001b[39;00m\n\u001b[1;32m    390\u001b[0m \n\u001b[1;32m    391\u001b[0m \u001b[38;5;124;03m    Parameters\u001b[39;00m\n\u001b[0;32m   (...)\u001b[0m\n\u001b[1;32m    404\u001b[0m \u001b[38;5;124;03m        The requested features in a GeoDataFrames.\u001b[39;00m\n\u001b[1;32m    405\u001b[0m \u001b[38;5;124;03m    \"\"\"\u001b[39;00m\n\u001b[0;32m--> 406\u001b[0m     resp \u001b[38;5;241m=\u001b[39m \u001b[38;5;28;43mself\u001b[39;49m\u001b[38;5;241;43m.\u001b[39;49m\u001b[43mwfs\u001b[49m\u001b[38;5;241;43m.\u001b[39;49m\u001b[43mgetfeature_bybox\u001b[49m\u001b[43m(\u001b[49m\n\u001b[1;32m    407\u001b[0m \u001b[43m        \u001b[49m\u001b[43mbbox\u001b[49m\u001b[43m,\u001b[49m\n\u001b[1;32m    408\u001b[0m \u001b[43m        \u001b[49m\u001b[43mbox_crs\u001b[49m\u001b[43m,\u001b[49m\n\u001b[1;32m    409\u001b[0m \u001b[43m        \u001b[49m\u001b[43malways_xy\u001b[49m\u001b[38;5;241;43m=\u001b[39;49m\u001b[38;5;28;43;01mTrue\u001b[39;49;00m\u001b[43m,\u001b[49m\n\u001b[1;32m    410\u001b[0m \u001b[43m        \u001b[49m\u001b[43msort_attr\u001b[49m\u001b[38;5;241;43m=\u001b[39;49m\u001b[43msort_attr\u001b[49m\u001b[43m,\u001b[49m\n\u001b[1;32m    411\u001b[0m \u001b[43m    \u001b[49m\u001b[43m)\u001b[49m\n\u001b[1;32m    412\u001b[0m     resp \u001b[38;5;241m=\u001b[39m cast(\u001b[38;5;124m\"\u001b[39m\u001b[38;5;124mlist[dict[str, Any]]\u001b[39m\u001b[38;5;124m\"\u001b[39m, resp)\n\u001b[1;32m    413\u001b[0m     \u001b[38;5;28;01mreturn\u001b[39;00m \u001b[38;5;28mself\u001b[39m\u001b[38;5;241m.\u001b[39m_to_geodf(resp)\n",
      "File \u001b[0;32m/home/conda/users/bf22927b754254941288297438d5b0c40080bfe1328180b0ce462d277174660c-20230524-082354-778282-197-pangeo/lib/python3.10/site-packages/pygeoogc/pygeoogc.py:562\u001b[0m, in \u001b[0;36mWFS.getfeature_bybox\u001b[0;34m(self, bbox, box_crs, always_xy, sort_attr)\u001b[0m\n\u001b[1;32m    546\u001b[0m nfeatures \u001b[38;5;241m=\u001b[39m \u001b[38;5;28mint\u001b[39m(resp[\u001b[38;5;241m0\u001b[39m]\u001b[38;5;241m.\u001b[39msplit(\u001b[38;5;28mself\u001b[39m\u001b[38;5;241m.\u001b[39mnfeat_key)[\u001b[38;5;241m-\u001b[39m\u001b[38;5;241m1\u001b[39m]\u001b[38;5;241m.\u001b[39msplit(\u001b[38;5;124m\"\u001b[39m\u001b[38;5;124m \u001b[39m\u001b[38;5;124m\"\u001b[39m)[\u001b[38;5;241m0\u001b[39m]\u001b[38;5;241m.\u001b[39mstrip(\u001b[38;5;124m'\u001b[39m\u001b[38;5;124m\"\u001b[39m\u001b[38;5;124m'\u001b[39m))\n\u001b[1;32m    548\u001b[0m payloads \u001b[38;5;241m=\u001b[39m [\n\u001b[1;32m    549\u001b[0m     {\n\u001b[1;32m    550\u001b[0m         \u001b[38;5;124m\"\u001b[39m\u001b[38;5;124mservice\u001b[39m\u001b[38;5;124m\"\u001b[39m: \u001b[38;5;124m\"\u001b[39m\u001b[38;5;124mwfs\u001b[39m\u001b[38;5;124m\"\u001b[39m,\n\u001b[0;32m   (...)\u001b[0m\n\u001b[1;32m    559\u001b[0m     \u001b[38;5;28;01mfor\u001b[39;00m i \u001b[38;5;129;01min\u001b[39;00m \u001b[38;5;28mrange\u001b[39m(\u001b[38;5;241m0\u001b[39m, nfeatures, \u001b[38;5;28mself\u001b[39m\u001b[38;5;241m.\u001b[39mmax_nrecords)\n\u001b[1;32m    560\u001b[0m ]\n\u001b[0;32m--> 562\u001b[0m \u001b[38;5;28;01mreturn\u001b[39;00m \u001b[38;5;28;43mself\u001b[39;49m\u001b[38;5;241;43m.\u001b[39;49m\u001b[43mretrieve\u001b[49m\u001b[43m(\u001b[49m\u001b[43m[\u001b[49m\u001b[38;5;28;43mself\u001b[39;49m\u001b[38;5;241;43m.\u001b[39;49m\u001b[43murl\u001b[49m\u001b[43m]\u001b[49m\u001b[43m \u001b[49m\u001b[38;5;241;43m*\u001b[39;49m\u001b[43m \u001b[49m\u001b[38;5;28;43mlen\u001b[39;49m\u001b[43m(\u001b[49m\u001b[43mpayloads\u001b[49m\u001b[43m)\u001b[49m\u001b[43m,\u001b[49m\u001b[43m \u001b[49m\u001b[43m[\u001b[49m\u001b[43m{\u001b[49m\u001b[38;5;124;43m\"\u001b[39;49m\u001b[38;5;124;43mparams\u001b[39;49m\u001b[38;5;124;43m\"\u001b[39;49m\u001b[43m:\u001b[49m\u001b[43m \u001b[49m\u001b[43mp\u001b[49m\u001b[43m}\u001b[49m\u001b[43m \u001b[49m\u001b[38;5;28;43;01mfor\u001b[39;49;00m\u001b[43m \u001b[49m\u001b[43mp\u001b[49m\u001b[43m \u001b[49m\u001b[38;5;129;43;01min\u001b[39;49;00m\u001b[43m \u001b[49m\u001b[43mpayloads\u001b[49m\u001b[43m]\u001b[49m\u001b[43m)\u001b[49m\n",
      "File \u001b[0;32m/home/conda/users/bf22927b754254941288297438d5b0c40080bfe1328180b0ce462d277174660c-20230524-082354-778282-197-pangeo/lib/python3.10/site-packages/async_retriever/async_retriever.py:575\u001b[0m, in \u001b[0;36mretrieve_json\u001b[0;34m(urls, request_kwds, request_method, max_workers, cache_name, timeout, expire_after, ssl, disable, raise_status)\u001b[0m\n\u001b[1;32m    513\u001b[0m \u001b[38;5;28;01mdef\u001b[39;00m \u001b[38;5;21mretrieve_json\u001b[39m(\n\u001b[1;32m    514\u001b[0m     urls: Sequence[StrOrURL],\n\u001b[1;32m    515\u001b[0m     request_kwds: Sequence[\u001b[38;5;28mdict\u001b[39m[\u001b[38;5;28mstr\u001b[39m, Any]] \u001b[38;5;241m|\u001b[39m \u001b[38;5;28;01mNone\u001b[39;00m \u001b[38;5;241m=\u001b[39m \u001b[38;5;28;01mNone\u001b[39;00m,\n\u001b[0;32m   (...)\u001b[0m\n\u001b[1;32m    523\u001b[0m     raise_status: \u001b[38;5;28mbool\u001b[39m \u001b[38;5;241m=\u001b[39m \u001b[38;5;28;01mTrue\u001b[39;00m,\n\u001b[1;32m    524\u001b[0m ) \u001b[38;5;241m-\u001b[39m\u001b[38;5;241m>\u001b[39m \u001b[38;5;28mlist\u001b[39m[\u001b[38;5;28mdict\u001b[39m[\u001b[38;5;28mstr\u001b[39m, Any]] \u001b[38;5;241m|\u001b[39m \u001b[38;5;28mlist\u001b[39m[\u001b[38;5;28mlist\u001b[39m[\u001b[38;5;28mdict\u001b[39m[\u001b[38;5;28mstr\u001b[39m, Any]]]:\n\u001b[1;32m    525\u001b[0m \u001b[38;5;250m    \u001b[39m\u001b[38;5;124mr\u001b[39m\u001b[38;5;124;03m\"\"\"Send async requests and get the response as ``json``.\u001b[39;00m\n\u001b[1;32m    526\u001b[0m \n\u001b[1;32m    527\u001b[0m \u001b[38;5;124;03m    Parameters\u001b[39;00m\n\u001b[0;32m   (...)\u001b[0m\n\u001b[1;32m    573\u001b[0m \u001b[38;5;124;03m    2675320\u001b[39;00m\n\u001b[1;32m    574\u001b[0m \u001b[38;5;124;03m    \"\"\"\u001b[39;00m\n\u001b[0;32m--> 575\u001b[0m     \u001b[38;5;28;01mreturn\u001b[39;00m \u001b[43mretrieve\u001b[49m\u001b[43m(\u001b[49m\n\u001b[1;32m    576\u001b[0m \u001b[43m        \u001b[49m\u001b[43murls\u001b[49m\u001b[43m,\u001b[49m\n\u001b[1;32m    577\u001b[0m \u001b[43m        \u001b[49m\u001b[38;5;124;43m\"\u001b[39;49m\u001b[38;5;124;43mjson\u001b[39;49m\u001b[38;5;124;43m\"\u001b[39;49m\u001b[43m,\u001b[49m\n\u001b[1;32m    578\u001b[0m \u001b[43m        \u001b[49m\u001b[43mrequest_kwds\u001b[49m\u001b[43m,\u001b[49m\n\u001b[1;32m    579\u001b[0m \u001b[43m        \u001b[49m\u001b[43mrequest_method\u001b[49m\u001b[43m,\u001b[49m\n\u001b[1;32m    580\u001b[0m \u001b[43m        \u001b[49m\u001b[43mmax_workers\u001b[49m\u001b[43m,\u001b[49m\n\u001b[1;32m    581\u001b[0m \u001b[43m        \u001b[49m\u001b[43mcache_name\u001b[49m\u001b[43m,\u001b[49m\n\u001b[1;32m    582\u001b[0m \u001b[43m        \u001b[49m\u001b[43mtimeout\u001b[49m\u001b[43m,\u001b[49m\n\u001b[1;32m    583\u001b[0m \u001b[43m        \u001b[49m\u001b[43mexpire_after\u001b[49m\u001b[43m,\u001b[49m\n\u001b[1;32m    584\u001b[0m \u001b[43m        \u001b[49m\u001b[43mssl\u001b[49m\u001b[43m,\u001b[49m\n\u001b[1;32m    585\u001b[0m \u001b[43m        \u001b[49m\u001b[43mdisable\u001b[49m\u001b[43m,\u001b[49m\n\u001b[1;32m    586\u001b[0m \u001b[43m        \u001b[49m\u001b[43mraise_status\u001b[49m\u001b[43m,\u001b[49m\n\u001b[1;32m    587\u001b[0m \u001b[43m    \u001b[49m\u001b[43m)\u001b[49m\n",
      "File \u001b[0;32m/home/conda/users/bf22927b754254941288297438d5b0c40080bfe1328180b0ce462d277174660c-20230524-082354-778282-197-pangeo/lib/python3.10/site-packages/async_retriever/async_retriever.py:431\u001b[0m, in \u001b[0;36mretrieve\u001b[0;34m(urls, read_method, request_kwds, request_method, max_workers, cache_name, timeout, expire_after, ssl, disable, raise_status)\u001b[0m\n\u001b[1;32m    428\u001b[0m loop, new_loop \u001b[38;5;241m=\u001b[39m utils\u001b[38;5;241m.\u001b[39mget_event_loop()\n\u001b[1;32m    429\u001b[0m results \u001b[38;5;241m=\u001b[39m (loop\u001b[38;5;241m.\u001b[39mrun_until_complete(session(url_kwds\u001b[38;5;241m=\u001b[39mc)) \u001b[38;5;28;01mfor\u001b[39;00m c \u001b[38;5;129;01min\u001b[39;00m chunked_reqs)\n\u001b[0;32m--> 431\u001b[0m resp \u001b[38;5;241m=\u001b[39m [r \u001b[38;5;28;01mfor\u001b[39;00m _, r \u001b[38;5;129;01min\u001b[39;00m \u001b[38;5;28;43msorted\u001b[39;49m\u001b[43m(\u001b[49m\u001b[43mtlz\u001b[49m\u001b[38;5;241;43m.\u001b[39;49m\u001b[43mconcat\u001b[49m\u001b[43m(\u001b[49m\u001b[43mresults\u001b[49m\u001b[43m)\u001b[49m\u001b[43m)\u001b[49m]\n\u001b[1;32m    432\u001b[0m \u001b[38;5;28;01mif\u001b[39;00m new_loop:\n\u001b[1;32m    433\u001b[0m     loop\u001b[38;5;241m.\u001b[39mclose()\n",
      "File \u001b[0;32m/home/conda/users/bf22927b754254941288297438d5b0c40080bfe1328180b0ce462d277174660c-20230524-082354-778282-197-pangeo/lib/python3.10/site-packages/async_retriever/async_retriever.py:429\u001b[0m, in \u001b[0;36m<genexpr>\u001b[0;34m(.0)\u001b[0m\n\u001b[1;32m    427\u001b[0m chunked_reqs \u001b[38;5;241m=\u001b[39m tlz\u001b[38;5;241m.\u001b[39mpartition_all(max_workers, inp\u001b[38;5;241m.\u001b[39murl_kwds)\n\u001b[1;32m    428\u001b[0m loop, new_loop \u001b[38;5;241m=\u001b[39m utils\u001b[38;5;241m.\u001b[39mget_event_loop()\n\u001b[0;32m--> 429\u001b[0m results \u001b[38;5;241m=\u001b[39m (\u001b[43mloop\u001b[49m\u001b[38;5;241;43m.\u001b[39;49m\u001b[43mrun_until_complete\u001b[49m\u001b[43m(\u001b[49m\u001b[43msession\u001b[49m\u001b[43m(\u001b[49m\u001b[43murl_kwds\u001b[49m\u001b[38;5;241;43m=\u001b[39;49m\u001b[43mc\u001b[49m\u001b[43m)\u001b[49m\u001b[43m)\u001b[49m \u001b[38;5;28;01mfor\u001b[39;00m c \u001b[38;5;129;01min\u001b[39;00m chunked_reqs)\n\u001b[1;32m    431\u001b[0m resp \u001b[38;5;241m=\u001b[39m [r \u001b[38;5;28;01mfor\u001b[39;00m _, r \u001b[38;5;129;01min\u001b[39;00m \u001b[38;5;28msorted\u001b[39m(tlz\u001b[38;5;241m.\u001b[39mconcat(results))]\n\u001b[1;32m    432\u001b[0m \u001b[38;5;28;01mif\u001b[39;00m new_loop:\n",
      "File \u001b[0;32m/home/conda/users/bf22927b754254941288297438d5b0c40080bfe1328180b0ce462d277174660c-20230524-082354-778282-197-pangeo/lib/python3.10/site-packages/nest_asyncio.py:90\u001b[0m, in \u001b[0;36m_patch_loop.<locals>.run_until_complete\u001b[0;34m(self, future)\u001b[0m\n\u001b[1;32m     87\u001b[0m \u001b[38;5;28;01mif\u001b[39;00m \u001b[38;5;129;01mnot\u001b[39;00m f\u001b[38;5;241m.\u001b[39mdone():\n\u001b[1;32m     88\u001b[0m     \u001b[38;5;28;01mraise\u001b[39;00m \u001b[38;5;167;01mRuntimeError\u001b[39;00m(\n\u001b[1;32m     89\u001b[0m         \u001b[38;5;124m'\u001b[39m\u001b[38;5;124mEvent loop stopped before Future completed.\u001b[39m\u001b[38;5;124m'\u001b[39m)\n\u001b[0;32m---> 90\u001b[0m \u001b[38;5;28;01mreturn\u001b[39;00m \u001b[43mf\u001b[49m\u001b[38;5;241;43m.\u001b[39;49m\u001b[43mresult\u001b[49m\u001b[43m(\u001b[49m\u001b[43m)\u001b[49m\n",
      "File \u001b[0;32m/home/conda/users/bf22927b754254941288297438d5b0c40080bfe1328180b0ce462d277174660c-20230524-082354-778282-197-pangeo/lib/python3.10/asyncio/futures.py:201\u001b[0m, in \u001b[0;36mFuture.result\u001b[0;34m(self)\u001b[0m\n\u001b[1;32m    199\u001b[0m \u001b[38;5;28mself\u001b[39m\u001b[38;5;241m.\u001b[39m__log_traceback \u001b[38;5;241m=\u001b[39m \u001b[38;5;28;01mFalse\u001b[39;00m\n\u001b[1;32m    200\u001b[0m \u001b[38;5;28;01mif\u001b[39;00m \u001b[38;5;28mself\u001b[39m\u001b[38;5;241m.\u001b[39m_exception \u001b[38;5;129;01mis\u001b[39;00m \u001b[38;5;129;01mnot\u001b[39;00m \u001b[38;5;28;01mNone\u001b[39;00m:\n\u001b[0;32m--> 201\u001b[0m     \u001b[38;5;28;01mraise\u001b[39;00m \u001b[38;5;28mself\u001b[39m\u001b[38;5;241m.\u001b[39m_exception\u001b[38;5;241m.\u001b[39mwith_traceback(\u001b[38;5;28mself\u001b[39m\u001b[38;5;241m.\u001b[39m_exception_tb)\n\u001b[1;32m    202\u001b[0m \u001b[38;5;28;01mreturn\u001b[39;00m \u001b[38;5;28mself\u001b[39m\u001b[38;5;241m.\u001b[39m_result\n",
      "File \u001b[0;32m/home/conda/users/bf22927b754254941288297438d5b0c40080bfe1328180b0ce462d277174660c-20230524-082354-778282-197-pangeo/lib/python3.10/asyncio/tasks.py:232\u001b[0m, in \u001b[0;36mTask.__step\u001b[0;34m(***failed resolving arguments***)\u001b[0m\n\u001b[1;32m    228\u001b[0m \u001b[38;5;28;01mtry\u001b[39;00m:\n\u001b[1;32m    229\u001b[0m     \u001b[38;5;28;01mif\u001b[39;00m exc \u001b[38;5;129;01mis\u001b[39;00m \u001b[38;5;28;01mNone\u001b[39;00m:\n\u001b[1;32m    230\u001b[0m         \u001b[38;5;66;03m# We use the `send` method directly, because coroutines\u001b[39;00m\n\u001b[1;32m    231\u001b[0m         \u001b[38;5;66;03m# don't have `__iter__` and `__next__` methods.\u001b[39;00m\n\u001b[0;32m--> 232\u001b[0m         result \u001b[38;5;241m=\u001b[39m \u001b[43mcoro\u001b[49m\u001b[38;5;241;43m.\u001b[39;49m\u001b[43msend\u001b[49m\u001b[43m(\u001b[49m\u001b[38;5;28;43;01mNone\u001b[39;49;00m\u001b[43m)\u001b[49m\n\u001b[1;32m    233\u001b[0m     \u001b[38;5;28;01melse\u001b[39;00m:\n\u001b[1;32m    234\u001b[0m         result \u001b[38;5;241m=\u001b[39m coro\u001b[38;5;241m.\u001b[39mthrow(exc)\n",
      "File \u001b[0;32m/home/conda/users/bf22927b754254941288297438d5b0c40080bfe1328180b0ce462d277174660c-20230524-082354-778282-197-pangeo/lib/python3.10/site-packages/async_retriever/async_retriever.py:232\u001b[0m, in \u001b[0;36masync_session_with_cache\u001b[0;34m(url_kwds, read, r_kwds, request_method, cache_name, timeout, expire_after, ssl, raise_status)\u001b[0m\n\u001b[1;32m    227\u001b[0m request_func \u001b[38;5;241m=\u001b[39m \u001b[38;5;28mgetattr\u001b[39m(session, request_method\u001b[38;5;241m.\u001b[39mlower())\n\u001b[1;32m    228\u001b[0m tasks \u001b[38;5;241m=\u001b[39m (\n\u001b[1;32m    229\u001b[0m     utils\u001b[38;5;241m.\u001b[39mretriever(uid, url, kwds, request_func, read, r_kwds, raise_status)\n\u001b[1;32m    230\u001b[0m     \u001b[38;5;28;01mfor\u001b[39;00m uid, url, kwds \u001b[38;5;129;01min\u001b[39;00m url_kwds\n\u001b[1;32m    231\u001b[0m )\n\u001b[0;32m--> 232\u001b[0m \u001b[38;5;28;01mreturn\u001b[39;00m \u001b[38;5;28;01mawait\u001b[39;00m asyncio\u001b[38;5;241m.\u001b[39mgather(\u001b[38;5;241m*\u001b[39mtasks)\n",
      "File \u001b[0;32m/home/conda/users/bf22927b754254941288297438d5b0c40080bfe1328180b0ce462d277174660c-20230524-082354-778282-197-pangeo/lib/python3.10/asyncio/tasks.py:304\u001b[0m, in \u001b[0;36mTask.__wakeup\u001b[0;34m(self, future)\u001b[0m\n\u001b[1;32m    302\u001b[0m \u001b[38;5;28;01mdef\u001b[39;00m \u001b[38;5;21m__wakeup\u001b[39m(\u001b[38;5;28mself\u001b[39m, future):\n\u001b[1;32m    303\u001b[0m     \u001b[38;5;28;01mtry\u001b[39;00m:\n\u001b[0;32m--> 304\u001b[0m         \u001b[43mfuture\u001b[49m\u001b[38;5;241;43m.\u001b[39;49m\u001b[43mresult\u001b[49m\u001b[43m(\u001b[49m\u001b[43m)\u001b[49m\n\u001b[1;32m    305\u001b[0m     \u001b[38;5;28;01mexcept\u001b[39;00m \u001b[38;5;167;01mBaseException\u001b[39;00m \u001b[38;5;28;01mas\u001b[39;00m exc:\n\u001b[1;32m    306\u001b[0m         \u001b[38;5;66;03m# This may also be a cancellation.\u001b[39;00m\n\u001b[1;32m    307\u001b[0m         \u001b[38;5;28mself\u001b[39m\u001b[38;5;241m.\u001b[39m__step(exc)\n",
      "File \u001b[0;32m/home/conda/users/bf22927b754254941288297438d5b0c40080bfe1328180b0ce462d277174660c-20230524-082354-778282-197-pangeo/lib/python3.10/asyncio/tasks.py:232\u001b[0m, in \u001b[0;36mTask.__step\u001b[0;34m(***failed resolving arguments***)\u001b[0m\n\u001b[1;32m    228\u001b[0m \u001b[38;5;28;01mtry\u001b[39;00m:\n\u001b[1;32m    229\u001b[0m     \u001b[38;5;28;01mif\u001b[39;00m exc \u001b[38;5;129;01mis\u001b[39;00m \u001b[38;5;28;01mNone\u001b[39;00m:\n\u001b[1;32m    230\u001b[0m         \u001b[38;5;66;03m# We use the `send` method directly, because coroutines\u001b[39;00m\n\u001b[1;32m    231\u001b[0m         \u001b[38;5;66;03m# don't have `__iter__` and `__next__` methods.\u001b[39;00m\n\u001b[0;32m--> 232\u001b[0m         result \u001b[38;5;241m=\u001b[39m \u001b[43mcoro\u001b[49m\u001b[38;5;241;43m.\u001b[39;49m\u001b[43msend\u001b[49m\u001b[43m(\u001b[49m\u001b[38;5;28;43;01mNone\u001b[39;49;00m\u001b[43m)\u001b[49m\n\u001b[1;32m    233\u001b[0m     \u001b[38;5;28;01melse\u001b[39;00m:\n\u001b[1;32m    234\u001b[0m         result \u001b[38;5;241m=\u001b[39m coro\u001b[38;5;241m.\u001b[39mthrow(exc)\n",
      "File \u001b[0;32m/home/conda/users/bf22927b754254941288297438d5b0c40080bfe1328180b0ce462d277174660c-20230524-082354-778282-197-pangeo/lib/python3.10/site-packages/async_retriever/_utils.py:85\u001b[0m, in \u001b[0;36mretriever\u001b[0;34m(uid, url, s_kwds, session, read_type, r_kwds, raise_status)\u001b[0m\n\u001b[1;32m     83\u001b[0m \u001b[38;5;28;01mexcept\u001b[39;00m (ClientResponseError, \u001b[38;5;167;01mValueError\u001b[39;00m) \u001b[38;5;28;01mas\u001b[39;00m ex:\n\u001b[1;32m     84\u001b[0m     \u001b[38;5;28;01mif\u001b[39;00m raise_status:\n\u001b[0;32m---> 85\u001b[0m         \u001b[38;5;28;01mraise\u001b[39;00m ServiceError(\u001b[38;5;28;01mawait\u001b[39;00m response\u001b[38;5;241m.\u001b[39mtext(), \u001b[38;5;28mstr\u001b[39m(response\u001b[38;5;241m.\u001b[39murl)) \u001b[38;5;28;01mfrom\u001b[39;00m \u001b[38;5;21;01mex\u001b[39;00m\n\u001b[1;32m     86\u001b[0m     \u001b[38;5;28;01mreturn\u001b[39;00m uid, \u001b[38;5;28;01mNone\u001b[39;00m\n",
      "\u001b[0;31mServiceError\u001b[0m: Service returned the following error message:\nURL: https://labs.waterdata.usgs.gov/geoserver/wmadata/ows?service=wfs&version=2.0.0&outputFormat=application/json&request=GetFeature&typeName=wmadata:wbd12_20201006&bbox=-124.7844079,24.7433195,-66.9513812,49.3457868,EPSG:4326&srsName=EPSG:4269&startIndex=22000&count=1000&sortBy=objectid\nERROR: <html>\r\n<head><title>502 Bad Gateway</title></head>\r\n<body>\r\n<center><h1>502 Bad Gateway</h1></center>\r\n</body>\r\n</html>\r\n\n"
     ]
    }
   ],
   "source": [
    "# bbox (west, south, east, north)\n",
    "%time\n",
    "#huc12_basins = WaterData('wbd12').bybox((-124.7844079, 24.7433195, -66.9513812, 49.3457868), box_crs=4326, sort_attr='huc12')\n",
    "huc12_basins = WaterData('wbd12').bybox((-124.7844079, 24.7433195, -66.9513812, 49.3457868), box_crs=4326)"
   ]
  },
  {
   "cell_type": "code",
   "execution_count": null,
   "id": "2599faff-24e6-4ac4-ab6a-0cc82f57ca80",
   "metadata": {},
   "outputs": [],
   "source": [
    "huc12_basins.plot()"
   ]
  },
  {
   "cell_type": "code",
   "execution_count": null,
   "id": "1abb80dc-0c99-4515-b8be-cc77be3314ef",
   "metadata": {},
   "outputs": [],
   "source": [
    "huc12_basins.head()"
   ]
  },
  {
   "cell_type": "code",
   "execution_count": null,
   "id": "4d6fb307-106e-44c4-9f8b-22fb4d75d233",
   "metadata": {},
   "outputs": [],
   "source": [
    "fs_write = fsspec.filesystem(\n",
    "    's3',\n",
    "    profile='osn-renc',  ## This is the profile name you configured above.\n",
    "    client_kwargs={'endpoint_url': 'https://renc.osn.xsede.org'}\n",
    ")"
   ]
  },
  {
   "cell_type": "markdown",
   "id": "2035ad24-294e-45e5-888f-1b0579c71516",
   "metadata": {},
   "source": [
    "# Write Geoparquet"
   ]
  },
  {
   "cell_type": "code",
   "execution_count": null,
   "id": "807fa5ef-5d7a-42ca-bd14-8a0128ee5d3a",
   "metadata": {},
   "outputs": [],
   "source": [
    "fname='rsignellbucket2/nwc/huc12/huc12.geoparquet'\n",
    "%time\n",
    "with fs_write.open(fname, mode='wb') as f:\n",
    "    huc12_basins.to_parquet(f)"
   ]
  },
  {
   "cell_type": "code",
   "execution_count": null,
   "id": "de864122-9d9e-4827-829b-9e4269647115",
   "metadata": {},
   "outputs": [],
   "source": [
    "fs_write.ls('rsignellbucket2/nwc/huc12/')"
   ]
  },
  {
   "cell_type": "code",
   "execution_count": null,
   "id": "8111d480-9cd8-4344-b99c-00b8a95a4f3d",
   "metadata": {},
   "outputs": [],
   "source": [
    "def convert_size(size_bytes):\n",
    "   if size_bytes == 0:\n",
    "       return \"0B\"\n",
    "   size_name = (\"B\", \"KB\", \"MB\", \"GB\", \"TB\", \"PB\", \"EB\", \"ZB\", \"YB\")\n",
    "   i = int(math.floor(math.log(size_bytes, 1024)))\n",
    "   p = math.pow(1024, i)\n",
    "   s = round(size_bytes / p, 2)\n",
    "   return \"%s %s\" % (s, size_name[i])"
   ]
  },
  {
   "cell_type": "code",
   "execution_count": null,
   "id": "749e8422-a9a3-4357-9ec2-a8aa846c0c35",
   "metadata": {},
   "outputs": [],
   "source": [
    "print(f'size of huc12 geoparquet: {convert_size(fs_write.size(fname))}')"
   ]
  },
  {
   "cell_type": "code",
   "execution_count": null,
   "id": "16b7df39-0f08-4bb8-af99-687c965d88e5",
   "metadata": {},
   "outputs": [],
   "source": [
    "with fs_write.open(fname, mode='rb') as f:\n",
    "    huc12_df = gpd.read_parquet(f)"
   ]
  },
  {
   "cell_type": "code",
   "execution_count": null,
   "id": "e5555090-f937-4feb-81f5-8177f7b38e32",
   "metadata": {},
   "outputs": [],
   "source": [
    "huc12_df.head()"
   ]
  },
  {
   "cell_type": "code",
   "execution_count": null,
   "id": "6481286e-fbab-4244-90a4-351077cc0ea6",
   "metadata": {},
   "outputs": [],
   "source": [
    "huc12_df.plot()"
   ]
  },
  {
   "cell_type": "markdown",
   "id": "c10c7868-8231-4254-9a4c-523b463c744a",
   "metadata": {},
   "source": [
    "# Write geopackagefname='rsignellbucket2/nwc/huc12/huc12.gpkg'\n"
   ]
  },
  {
   "cell_type": "code",
   "execution_count": null,
   "id": "a664f594-f00a-45bc-8ebd-8afa8bd97d9a",
   "metadata": {},
   "outputs": [],
   "source": [
    "fname='rsignellbucket2/nwc/huc12/huc12.gpkg'"
   ]
  },
  {
   "cell_type": "code",
   "execution_count": null,
   "id": "d6c7600e-7438-4468-9327-c0cee370f177",
   "metadata": {},
   "outputs": [],
   "source": [
    "import boto3\n",
    "session = boto3.Session(profile_name='osn-renc')\n",
    "#huc12_basins.to_file(fname, layer='huc12', driver=\"GPKG\")"
   ]
  },
  {
   "cell_type": "code",
   "execution_count": null,
   "id": "dc265328-0608-4b6c-8001-3b1603d99e35",
   "metadata": {},
   "outputs": [],
   "source": [
    "%time\n",
    "with fs_write.open(fname, mode='wb') as f:\n",
    "    huc12_basins.to_file(f, layer='huc12', driver=\"GPKG\")"
   ]
  },
  {
   "cell_type": "code",
   "execution_count": null,
   "id": "5025cc39-22a2-4bdc-a727-280a9b5e1205",
   "metadata": {},
   "outputs": [],
   "source": [
    "fs_write.ls('rsignellbucket2/nwc/huc12/')"
   ]
  },
  {
   "cell_type": "code",
   "execution_count": null,
   "id": "e282a120-5173-4c8b-a053-05fbcc06403b",
   "metadata": {},
   "outputs": [],
   "source": [
    "print(f'size of huc12 geopackage: {convert_size(fs_write.size(fname))}')"
   ]
  },
  {
   "cell_type": "code",
   "execution_count": null,
   "id": "62bb8023-847d-40b3-af08-8375a53545dd",
   "metadata": {},
   "outputs": [],
   "source": [
    "%time\n",
    "with fs_write.open(fname, mode='rb') as f:\n",
    "    huc12_df = gpd.read_file(f, layer='huc12', driver=\"GPKG\")  "
   ]
  },
  {
   "cell_type": "code",
   "execution_count": null,
   "id": "2e8b3591-61dc-4956-9d2f-86287e34940e",
   "metadata": {},
   "outputs": [],
   "source": [
    "huc12_df.head()"
   ]
  },
  {
   "cell_type": "code",
   "execution_count": null,
   "id": "1b544441-34d0-478b-bc6d-7615d97d73f3",
   "metadata": {},
   "outputs": [],
   "source": [
    "huc12_df.plot()"
   ]
  },
  {
   "cell_type": "code",
   "execution_count": null,
   "id": "e1b85929-549c-4f5e-925d-5010ea37a20b",
   "metadata": {},
   "outputs": [],
   "source": []
  }
 ],
 "metadata": {
  "kernelspec": {
   "display_name": "users-users-pangeo",
   "language": "python",
   "name": "conda-env-users-users-pangeo-py"
  },
  "language_info": {
   "codemirror_mode": {
    "name": "ipython",
    "version": 3
   },
   "file_extension": ".py",
   "mimetype": "text/x-python",
   "name": "python",
   "nbconvert_exporter": "python",
   "pygments_lexer": "ipython3",
   "version": "3.10.11"
  }
 },
 "nbformat": 4,
 "nbformat_minor": 5
}
