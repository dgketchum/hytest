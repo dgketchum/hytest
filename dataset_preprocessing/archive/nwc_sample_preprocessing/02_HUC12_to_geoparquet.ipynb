{
 "cells": [
  {
   "cell_type": "code",
   "execution_count": null,
   "id": "2f993886-6079-4e5d-9a60-90ee39ca6098",
   "metadata": {},
   "outputs": [],
   "source": [
    "from pynhd import NLDI, WaterData\n",
    "import fsspec\n",
    "import boto3\n",
    "import geopandas as gpd\n",
    "import math\n",
    "import xarray as xr"
   ]
  },
  {
   "cell_type": "code",
   "execution_count": null,
   "id": "4d6fb307-106e-44c4-9f8b-22fb4d75d233",
   "metadata": {},
   "outputs": [],
   "source": [
    "fs_hytest_internal = fsspec.filesystem(\n",
    "    's3',\n",
    "    profile='osn-hytest-internal',  ## aws profile name for bucket you are writing data to\n",
    "    client_kwargs={'endpoint_url': 'https://usgs.osn.mghpcc.org'}\n",
    ")"
   ]
  },
  {
   "cell_type": "code",
   "execution_count": null,
   "id": "12afd1da-2a20-40cf-8145-e69535908728",
   "metadata": {
    "tags": []
   },
   "outputs": [],
   "source": [
    "fs_hytest = fsspec.filesystem(\n",
    "    's3',\n",
    "    profile='osn-hytest',  ## aws profile name for bucket you are writing data to\n",
    "    client_kwargs={'endpoint_url': 'https://usgs.osn.mghpcc.org'}\n",
    ")"
   ]
  },
  {
   "cell_type": "code",
   "execution_count": null,
   "id": "8111d480-9cd8-4344-b99c-00b8a95a4f3d",
   "metadata": {},
   "outputs": [],
   "source": [
    "def convert_size(size_bytes):\n",
    "   if size_bytes == 0:\n",
    "       return \"0B\"\n",
    "   size_name = (\"B\", \"KB\", \"MB\", \"GB\", \"TB\", \"PB\", \"EB\", \"ZB\", \"YB\")\n",
    "   i = int(math.floor(math.log(size_bytes, 1024)))\n",
    "   p = math.pow(1024, i)\n",
    "   s = round(size_bytes / p, 2)\n",
    "   return \"%s %s\" % (s, size_name[i])"
   ]
  },
  {
   "cell_type": "markdown",
   "id": "76a1288b-497e-40db-8d58-dd291dc328dc",
   "metadata": {},
   "source": [
    "# Read HUC12 data into geopandas dataframe\n",
    "Data from https://www.sciencebase.gov/catalog/item/60cb5edfd34e86b938a373f4\n",
    "Copied to OSN pod"
   ]
  },
  {
   "cell_type": "code",
   "execution_count": null,
   "id": "d9d9c42c-c1f2-4fc2-b863-3cd0bc6cb4c3",
   "metadata": {},
   "outputs": [],
   "source": [
    "# option 1 - get all HUC12 basins in the Delaware River Basin - using WBD geodatabase\n",
    "# note - reading this file requires >4 GB of memory\n",
    "gdb_file = 'zip+https://usgs.osn.mghpcc.org/hytest/wbd/WBD_National_GDB.zip'\n",
    "huc12_basins = gpd.read_file(gdb_file, layer='WBDHU12')"
   ]
  },
  {
   "cell_type": "code",
   "execution_count": null,
   "id": "8c84f522-7ed1-4f3c-b458-636b2accdc65",
   "metadata": {
    "tags": []
   },
   "outputs": [],
   "source": [
    "# # option 2 - get all HUC12 basins in in the Delaware River Basin - using NLDI - this is a very large query for NLDI, not recommended\n",
    "# # USGS gage 01482100 Delaware River at Del Mem Bridge at Wilmington De\n",
    "# gage_id = '01482100'\n",
    "# nldi = NLDI()\n",
    "# del_basins = nldi.get_basins(gage_id)\n",
    "# huc12_basins_del = WaterData('wbd12').bygeom(del_basins.geometry[0])\n",
    "# #huc12_basins = WaterData('huc12')\n",
    "# huc12_basins_del.plot()"
   ]
  },
  {
   "cell_type": "code",
   "execution_count": null,
   "id": "09226e01-7589-4257-841a-4604f074aedb",
   "metadata": {
    "tags": []
   },
   "outputs": [],
   "source": [
    "# # option 3 - get all HUC12 basins in a bbox that encompasses the DRB\n",
    "# # bbox (west, south, east, north)\n",
    "# #huc12_basins = WaterData('wbd12').bybox((-124.7844079, 24.7433195, -66.9513812, 49.3457868), box_crs=4326, sort_attr='huc12')\n",
    "# huc12_basins = WaterData('wbd12').bybox((-124.7844079, 24.7433195, -66.9513812, 49.3457868), box_crs=4326)"
   ]
  },
  {
   "cell_type": "code",
   "execution_count": null,
   "id": "534fbc09-66a9-4350-bc83-8bc78eb074eb",
   "metadata": {},
   "outputs": [],
   "source": [
    "huc12_basins.plot()"
   ]
  },
  {
   "cell_type": "code",
   "execution_count": null,
   "id": "1abb80dc-0c99-4515-b8be-cc77be3314ef",
   "metadata": {},
   "outputs": [],
   "source": [
    "#huc12_basins.head()"
   ]
  },
  {
   "cell_type": "markdown",
   "id": "2035ad24-294e-45e5-888f-1b0579c71516",
   "metadata": {},
   "source": [
    "# Write HUC12 Geoparquet"
   ]
  },
  {
   "cell_type": "code",
   "execution_count": null,
   "id": "807fa5ef-5d7a-42ca-bd14-8a0128ee5d3a",
   "metadata": {},
   "outputs": [],
   "source": [
    "fname='hytest/wbd/huc12/huc12.geoparquet'"
   ]
  },
  {
   "cell_type": "code",
   "execution_count": null,
   "id": "2262bb2c-488a-4fc0-94ff-cf02c88464ae",
   "metadata": {
    "tags": []
   },
   "outputs": [],
   "source": [
    "with fs_hytest.open(fname, mode='wb') as f:\n",
    "    huc12_basins.to_parquet(f)"
   ]
  },
  {
   "cell_type": "code",
   "execution_count": null,
   "id": "de864122-9d9e-4827-829b-9e4269647115",
   "metadata": {},
   "outputs": [],
   "source": [
    "fs_hytest.ls('hytest/wbd/huc12/')"
   ]
  },
  {
   "cell_type": "code",
   "execution_count": null,
   "id": "749e8422-a9a3-4357-9ec2-a8aa846c0c35",
   "metadata": {},
   "outputs": [],
   "source": [
    "print(f'size of huc12 geoparquet: {convert_size(fs_hytest.size(fname))}')"
   ]
  },
  {
   "cell_type": "code",
   "execution_count": null,
   "id": "16b7df39-0f08-4bb8-af99-687c965d88e5",
   "metadata": {},
   "outputs": [],
   "source": [
    "with fs_hytest.open(fname, mode='rb') as f:\n",
    "    huc12_df = gpd.read_parquet(f)"
   ]
  },
  {
   "cell_type": "code",
   "execution_count": null,
   "id": "e5555090-f937-4feb-81f5-8177f7b38e32",
   "metadata": {},
   "outputs": [],
   "source": [
    "huc12_df.head()"
   ]
  },
  {
   "cell_type": "code",
   "execution_count": null,
   "id": "6481286e-fbab-4244-90a4-351077cc0ea6",
   "metadata": {},
   "outputs": [],
   "source": [
    "huc12_df.plot()"
   ]
  },
  {
   "cell_type": "markdown",
   "id": "c10c7868-8231-4254-9a4c-523b463c744a",
   "metadata": {},
   "source": [
    "# Write geopackage"
   ]
  },
  {
   "cell_type": "code",
   "execution_count": null,
   "id": "a664f594-f00a-45bc-8ebd-8afa8bd97d9a",
   "metadata": {},
   "outputs": [],
   "source": [
    "fname='hytest/wbd/huc12/huc12.gpkg'"
   ]
  },
  {
   "cell_type": "code",
   "execution_count": null,
   "id": "dc265328-0608-4b6c-8001-3b1603d99e35",
   "metadata": {},
   "outputs": [],
   "source": [
    "with fs_hytest.open(fname, mode='wb') as f:\n",
    "    huc12_basins.to_file(f, layer='huc12', driver=\"GPKG\")"
   ]
  },
  {
   "cell_type": "code",
   "execution_count": null,
   "id": "5025cc39-22a2-4bdc-a727-280a9b5e1205",
   "metadata": {},
   "outputs": [],
   "source": [
    "fs_hytest.ls('hytest/wbd/huc12/')"
   ]
  },
  {
   "cell_type": "code",
   "execution_count": null,
   "id": "e282a120-5173-4c8b-a053-05fbcc06403b",
   "metadata": {},
   "outputs": [],
   "source": [
    "print(f'size of huc12 geopackage: {convert_size(fs_hytest.size(fname))}')"
   ]
  },
  {
   "cell_type": "code",
   "execution_count": null,
   "id": "62bb8023-847d-40b3-af08-8375a53545dd",
   "metadata": {},
   "outputs": [],
   "source": [
    "with fs_hytest.open(fname, mode='rb') as f:\n",
    "    huc12_basins = gpd.read_file(f, layer='huc12', driver=\"GPKG\")  "
   ]
  },
  {
   "cell_type": "code",
   "execution_count": null,
   "id": "2e8b3591-61dc-4956-9d2f-86287e34940e",
   "metadata": {},
   "outputs": [],
   "source": [
    "huc12_basins['HUC12'].head()"
   ]
  },
  {
   "cell_type": "code",
   "execution_count": null,
   "id": "1b544441-34d0-478b-bc6d-7615d97d73f3",
   "metadata": {},
   "outputs": [],
   "source": [
    "huc12_basins.plot()"
   ]
  },
  {
   "cell_type": "markdown",
   "id": "fd43877e-8534-4aed-88c7-a7eda23aa138",
   "metadata": {},
   "source": [
    "# Experimental - Write geospatial time series data to geoparquet"
   ]
  },
  {
   "cell_type": "markdown",
   "id": "6375cafa-ad2c-4216-b958-db0005357089",
   "metadata": {},
   "source": [
    "Read in zarr time series data and check size"
   ]
  },
  {
   "cell_type": "code",
   "execution_count": null,
   "id": "8a0eafd8-a18b-4863-add1-f2d1a1b5c421",
   "metadata": {},
   "outputs": [],
   "source": [
    "zarr_path = 'hytest-internal/nhm_prms_v1_1_gridmet/nhm_prms_v1_1_gridmet.zarr'\n",
    "m = fs_hytest_internal.get_mapper(zarr_path)\n",
    "nhm_ds = xr.open_dataset(m, engine='zarr', consolidated=False, chunks={})\n",
    "# ds.sel(date='1983-01-01', huc12='010100020101').load()\n",
    "nhm_ds"
   ]
  },
  {
   "cell_type": "code",
   "execution_count": null,
   "id": "d29abd35-459c-4d7c-8532-bebf363a2c51",
   "metadata": {},
   "outputs": [],
   "source": [
    "print(f'size of NHM zarr time series: {convert_size(fs_hytest_internal.du(zarr_path))}')"
   ]
  },
  {
   "cell_type": "markdown",
   "id": "4a930596-b528-4bb0-8b59-2570ba9d984d",
   "metadata": {},
   "source": [
    "pull out just a slice of the time series (this is just to experiment, we don't need the whole dataset) and convert to a dataframe to zip up with huc12 basins geodataframe - this should be 12 data points (monthly)"
   ]
  },
  {
   "cell_type": "code",
   "execution_count": null,
   "id": "aca7f061-c24c-4240-834c-69199beaf1cf",
   "metadata": {},
   "outputs": [],
   "source": [
    "nhm_df = nhm_ds.sel(time=slice('2013-01-01','2013-02-28')).to_dataframe()"
   ]
  },
  {
   "cell_type": "markdown",
   "id": "a07c313e-76b2-49a0-bcb7-9dc3c5ef69ef",
   "metadata": {},
   "source": [
    "zip up with geospatial data"
   ]
  },
  {
   "cell_type": "code",
   "execution_count": null,
   "id": "62728571-66a6-4c0d-a6c1-7f451bb9f633",
   "metadata": {},
   "outputs": [],
   "source": [
    "huc12_basins_nhm_ts = huc12_basins.merge(nhm_df.reset_index(), left_on='HUC12', right_on='huc12')"
   ]
  },
  {
   "cell_type": "code",
   "execution_count": null,
   "id": "41a946e0-28ae-479a-ad4e-55c13cc319ff",
   "metadata": {},
   "outputs": [],
   "source": [
    "huc12_basins_nhm_ts = huc12_basins_nhm_ts.drop('HUC12', axis=1)"
   ]
  },
  {
   "cell_type": "code",
   "execution_count": null,
   "id": "bc69d097-8bdf-42f8-ab5e-a315d8410022",
   "metadata": {
    "tags": []
   },
   "outputs": [],
   "source": [
    "huc12_basins_nhm_ts"
   ]
  },
  {
   "cell_type": "code",
   "execution_count": null,
   "id": "43bf9dd3-8dd7-4ace-acda-b317765acbee",
   "metadata": {},
   "outputs": [],
   "source": [
    "huc12_basins_nhm_ts.loc[huc12_basins_nhm_ts['huc12']=='031401030101']"
   ]
  },
  {
   "cell_type": "markdown",
   "id": "30c88311-eaff-44be-8b65-054bd4de5cd6",
   "metadata": {},
   "source": [
    "save to geoparquet and check file size"
   ]
  },
  {
   "cell_type": "code",
   "execution_count": null,
   "id": "98b736f7-20bb-4b85-8391-0d1df4044848",
   "metadata": {},
   "outputs": [],
   "source": [
    "fname='hytest-internal/nhm_prms_v1_1_gridmet/huc12_nhm_ts.geoparquet'\n",
    "with fs_hytest_internal.open(fname, mode='wb') as f:\n",
    "    huc12_basins_nhm_ts.to_parquet(f)"
   ]
  },
  {
   "cell_type": "code",
   "execution_count": null,
   "id": "2c56a453-9e2a-45ff-8e33-c327269df464",
   "metadata": {},
   "outputs": [],
   "source": [
    "fname='hytest-internal/nhm_prms_v1_1_gridmet/huc12_nhm_ts.geoparquet'\n",
    "print(f'size of huc12 NHM time series geoparquet: {convert_size(fs_hytest_internal.size(fname))}')"
   ]
  },
  {
   "cell_type": "markdown",
   "id": "17635e12-bddf-4f47-a4f0-e14fe523834c",
   "metadata": {},
   "source": [
    "# Experimental - Write geospatial time series data to geopackage"
   ]
  },
  {
   "cell_type": "code",
   "execution_count": null,
   "id": "9ed3443b-33d9-4832-98ac-983453f9a54b",
   "metadata": {},
   "outputs": [],
   "source": [
    "fname='hytest-internal/nhm_prms_v1_1_gridmet/huc12_nhm_ts.gpkg'\n",
    "with fs_hytest_internal.open(fname, mode='wb') as f:\n",
    "    huc12_basins_nhm_ts.to_file(f, layer='huc12', driver=\"GPKG\") "
   ]
  },
  {
   "cell_type": "code",
   "execution_count": null,
   "id": "d00e5090-3298-42b8-b33d-d9450ad04a83",
   "metadata": {},
   "outputs": [],
   "source": [
    "fname='hytest-internal/nhm_prms_v1_1_gridmet/huc12_nhm_ts.gpkg'\n",
    "print(f'size of huc12 NHM time series geoparquet: {convert_size(fs_hytest_internal.size(fname))}')"
   ]
  }
 ],
 "metadata": {
  "kernelspec": {
   "display_name": "global-global-pangeo",
   "language": "python",
   "name": "conda-env-global-global-pangeo-py"
  },
  "language_info": {
   "codemirror_mode": {
    "name": "ipython",
    "version": 3
   },
   "file_extension": ".py",
   "mimetype": "text/x-python",
   "name": "python",
   "nbconvert_exporter": "python",
   "pygments_lexer": "ipython3",
   "version": "3.11.6"
  }
 },
 "nbformat": 4,
 "nbformat_minor": 5
}
