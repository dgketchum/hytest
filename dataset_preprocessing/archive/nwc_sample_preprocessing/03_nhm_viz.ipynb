{
 "cells": [
  {
   "cell_type": "code",
   "execution_count": null,
   "id": "e65509bc-17c9-49da-bb77-baf36c49c34d",
   "metadata": {},
   "outputs": [],
   "source": [
    "import fsspec\n",
    "import panel\n",
    "from pynhd import NLDI, WaterData\n",
    "import zarr\n",
    "import xarray as xr\n",
    "import pandas as pd\n",
    "import dask.dataframe as dd\n",
    "import dask_geopandas\n",
    "import hvplot.pandas\n",
    "import hvplot.xarray\n",
    "import geopandas as gpd\n",
    "from matplotlib import pyplot as plt\n",
    "#from zarr.storage import KVStore\n",
    "import math"
   ]
  },
  {
   "cell_type": "code",
   "execution_count": null,
   "id": "5110b815-b90e-4459-9a72-075e215631c5",
   "metadata": {},
   "outputs": [],
   "source": [
    "def convert_size(size_bytes):\n",
    "   if size_bytes == 0:\n",
    "       return \"0B\"\n",
    "   size_name = (\"B\", \"KB\", \"MB\", \"GB\", \"TB\", \"PB\", \"EB\", \"ZB\", \"YB\")\n",
    "   i = int(math.floor(math.log(size_bytes, 1024)))\n",
    "   p = math.pow(1024, i)\n",
    "   s = round(size_bytes / p, 2)\n",
    "   return \"%s %s\" % (s, size_name[i])"
   ]
  },
  {
   "cell_type": "code",
   "execution_count": null,
   "id": "a8e6e6dd-2405-4d80-be0e-a22382a029c8",
   "metadata": {},
   "outputs": [],
   "source": [
    "huc12_geoparquet_path = 'hytest/wbd/huc12/huc12.geoparquet'\n",
    "huc12_geopackage_path = 'hytest/wbd/huc12/huc12.gpkg'\n",
    "zarr_path = 'hytest-internal/nhm_prms_v1_1_gridmet/nhm_prms_v1_1_gridmet.zarr'"
   ]
  },
  {
   "cell_type": "code",
   "execution_count": null,
   "id": "b1fefad9-a881-4329-adf7-ff5ceba7a3d6",
   "metadata": {},
   "outputs": [],
   "source": [
    "fs_hytest = fsspec.filesystem(\n",
    "    's3',\n",
    "    anon=True,\n",
    "    client_kwargs={'endpoint_url': 'https://usgs.osn.mghpcc.org'}\n",
    ")"
   ]
  },
  {
   "cell_type": "code",
   "execution_count": null,
   "id": "e89c67d9-d82f-43d0-b4d8-02a32de23ca6",
   "metadata": {
    "tags": []
   },
   "outputs": [],
   "source": [
    "fs_hytest_internal = fsspec.filesystem(\n",
    "    's3',\n",
    "    profile='osn-hytest-internal',  ## aws profile name for bucket you are reading credentialed data from\n",
    "    client_kwargs={'endpoint_url': 'https://usgs.osn.mghpcc.org'}\n",
    ")"
   ]
  },
  {
   "cell_type": "markdown",
   "id": "a494c1f5-9d1e-4e65-8960-84637ee1184d",
   "metadata": {},
   "source": [
    "# Read in HUC12 (2022-10-06 snapshot) from geoparquet on object storage"
   ]
  },
  {
   "cell_type": "code",
   "execution_count": null,
   "id": "6e56d610-caff-4da7-a1fe-6080ea519acd",
   "metadata": {},
   "outputs": [],
   "source": [
    "print(f'size of huc12 geoparquet: {convert_size(fs_hytest.size(huc12_geoparquet_path))}')\n",
    "with fs_hytest.open(huc12_geoparquet_path, mode='rb') as f:\n",
    "    huc12_basins_geoparquet = gpd.read_parquet(f)"
   ]
  },
  {
   "cell_type": "markdown",
   "id": "f76b603a-aee2-47cf-a87c-604388a9ab20",
   "metadata": {},
   "source": [
    "# Read in HUC12 (2022-10-06 snapshot) from geopackage on object storage"
   ]
  },
  {
   "cell_type": "code",
   "execution_count": null,
   "id": "c6552f07-8bb0-499f-8eef-00a39a6a5555",
   "metadata": {},
   "outputs": [],
   "source": [
    "print(f'size of huc12 geopackage: {convert_size(fs_hytest.size(huc12_geopackage_path))}')\n",
    "with fs_hytest.open(huc12_geopackage_path, mode='rb') as f:\n",
    "    huc12_basins_geopackage = gpd.read_file(f, layer='huc12', driver=\"GPKG\")  "
   ]
  },
  {
   "cell_type": "markdown",
   "id": "c433f68f-2df9-4b67-8a94-3e5342ae90df",
   "metadata": {},
   "source": [
    "# Read in NHM zarr on object storage"
   ]
  },
  {
   "cell_type": "code",
   "execution_count": null,
   "id": "afef87ab-a429-4352-803d-2ff5e33584c7",
   "metadata": {},
   "outputs": [],
   "source": [
    "m = fs_hytest_internal.get_mapper(zarr_path)\n",
    "nhm_ds = xr.open_dataset(m, engine='zarr', consolidated=True, chunks={})\n",
    "# ds.sel(date='1983-01-01', huc12='010100020101').load()\n",
    "nhm_ds"
   ]
  },
  {
   "cell_type": "markdown",
   "id": "c442663b-7c8e-42e1-9166-3ffd3689497e",
   "metadata": {},
   "source": [
    "# Choose geodataframe to join to"
   ]
  },
  {
   "cell_type": "code",
   "execution_count": null,
   "id": "896b10a7-f186-4661-b3f3-613cd3536c03",
   "metadata": {},
   "outputs": [],
   "source": [
    "# choose from huc12_basins_geoparquet, huc12_basins_geopackage, huc12_basins_pynhd\n",
    "huc12_gdf = huc12_basins_geoparquet"
   ]
  },
  {
   "cell_type": "code",
   "execution_count": null,
   "id": "781134e2-2a03-42cc-99a1-c715158df9d0",
   "metadata": {},
   "outputs": [],
   "source": [
    "huc12_basins_ddf = dask_geopandas.from_geopandas(huc12_gdf.set_index('huc12'), npartitions=30)"
   ]
  },
  {
   "cell_type": "markdown",
   "id": "34d468e3-77e5-493c-9eef-0f5958835169",
   "metadata": {},
   "source": [
    "# Choose variable and date to plot"
   ]
  },
  {
   "cell_type": "code",
   "execution_count": null,
   "id": "a7eb0192-a23d-49e4-b85d-4415efbada93",
   "metadata": {},
   "outputs": [],
   "source": [
    "var_to_plot = 'gwres_flow'\n",
    "date_to_plot = '1983-01-01'"
   ]
  },
  {
   "cell_type": "code",
   "execution_count": null,
   "id": "3e77b26f-760b-4203-abfa-a816b56094d9",
   "metadata": {},
   "outputs": [],
   "source": [
    "nhm_ddf = nhm_ds[[var_to_plot]].sel(time=date_to_plot).to_dask_dataframe()"
   ]
  },
  {
   "cell_type": "markdown",
   "id": "98e6e188-2cbc-4cf2-be7a-7f21dd326729",
   "metadata": {},
   "source": [
    "# Merge HUC12 data with NHM zarr and plot"
   ]
  },
  {
   "cell_type": "code",
   "execution_count": null,
   "id": "6c690b9f-b8e7-4dcf-9e66-572c4d7c61d4",
   "metadata": {},
   "outputs": [],
   "source": [
    "merged = huc12_basins_ddf.merge(nhm_ddf, on='huc12').compute()\n",
    "gdf = gpd.GeoDataFrame(merged, crs=\"EPSG:4326\", geometry='geometry')"
   ]
  },
  {
   "cell_type": "code",
   "execution_count": null,
   "id": "5e2a1bff-4d92-488f-af67-58abfc393245",
   "metadata": {},
   "outputs": [],
   "source": [
    "fig = plt.figure(figsize=(15,5))\n",
    "ax = fig.add_subplot(1,1,1)\n",
    "ax.tick_params(\n",
    "    axis='both', bottom=False, left=False,         \n",
    "    labelbottom=False, labelleft=False)\n",
    "gdf.plot(ax=ax, column=var_to_plot, legend=True)\n",
    "ax.set_title(f'{var_to_plot} for HUC12s', fontsize=20, pad=10);"
   ]
  },
  {
   "cell_type": "code",
   "execution_count": null,
   "id": "14774eba-b44b-475c-b140-def37d517a31",
   "metadata": {},
   "outputs": [],
   "source": []
  }
 ],
 "metadata": {
  "kernelspec": {
   "display_name": "global-global-pangeo",
   "language": "python",
   "name": "conda-env-global-global-pangeo-py"
  },
  "language_info": {
   "codemirror_mode": {
    "name": "ipython",
    "version": 3
   },
   "file_extension": ".py",
   "mimetype": "text/x-python",
   "name": "python",
   "nbconvert_exporter": "python",
   "pygments_lexer": "ipython3",
   "version": "3.11.6"
  }
 },
 "nbformat": 4,
 "nbformat_minor": 5
}
