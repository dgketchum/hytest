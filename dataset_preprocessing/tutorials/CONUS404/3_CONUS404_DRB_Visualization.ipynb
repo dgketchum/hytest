{
 "cells": [
  {
   "cell_type": "markdown",
   "id": "819f7b29-a3b8-4870-866c-f663d9102aa8",
   "metadata": {},
   "source": [
    "# Visualizing CONUS404 and reference data \n",
    "\n",
    "<img src='../../../doc/assets/Eval_Viz.svg' width=600>\n",
    "The purpose of visualization notebooks is to look at data in pretty ways."
   ]
  },
  {
   "cell_type": "code",
   "execution_count": null,
   "id": "fd1bc96d-6c5c-40e4-bbbe-581024c7b5d8",
   "metadata": {},
   "outputs": [],
   "source": [
    "import xarray as xr \n",
    "print (\"maps are super cool\")"
   ]
  },
  {
   "cell_type": "code",
   "execution_count": null,
   "id": "edc058ea-e43e-43f9-af38-f70740acc625",
   "metadata": {},
   "outputs": [],
   "source": []
  }
 ],
 "metadata": {
  "kernelspec": {
   "display_name": "users-users-pangeo",
   "language": "python",
   "name": "conda-env-users-users-pangeo-py"
  },
  "language_info": {
   "codemirror_mode": {
    "name": "ipython",
    "version": 3
   },
   "file_extension": ".py",
   "mimetype": "text/x-python",
   "name": "python",
   "nbconvert_exporter": "python",
   "pygments_lexer": "ipython3",
   "version": "3.10.11"
  }
 },
 "nbformat": 4,
 "nbformat_minor": 5
}
