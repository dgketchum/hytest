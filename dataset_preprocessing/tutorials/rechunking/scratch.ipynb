{
 "cells": [
  {
   "cell_type": "code",
   "execution_count": 23,
   "id": "03df5a3b-65fd-4688-98e3-35e958c44f3f",
   "metadata": {},
   "outputs": [
    {
     "data": {
      "text/plain": [
       "'s3://rsignellbucket2/testing/gzt5142/outfile.zarr'"
      ]
     },
     "execution_count": 23,
     "metadata": {},
     "output_type": "execute_result"
    }
   ],
   "source": [
    "import os\n",
    "os.environ['AWS_PROFILE']     = 'osn-renci'\n",
    "os.environ['AWS_S3_ENDPOINT'] = 'https://renc.osn.xsede.org'\n",
    "\n",
    "import fsspec\n",
    "import zarr\n",
    "fsw = fsspec.filesystem(\n",
    "    's3', \n",
    "    anon=False, \n",
    "    default_fill_cache=False, \n",
    "    skip_instance_cache=True, \n",
    "    client_kwargs={'endpoint_url': os.environ['AWS_S3_ENDPOINT'], }\n",
    ")\n",
    "\n",
    "myDir = 's3://rsignellbucket2/testing/gzt5142/'\n",
    "store = os.path.join(myDir, \"outfile.zarr\")\n",
    "store"
   ]
  },
  {
   "cell_type": "code",
   "execution_count": 30,
   "id": "a558f29f-0f1c-4032-9b4c-a2529e957d56",
   "metadata": {},
   "outputs": [],
   "source": [
    "_smap = fsw.get_mapper(store, create=True)"
   ]
  },
  {
   "cell_type": "code",
   "execution_count": 31,
   "id": "ff159bd3-9f8d-4370-87ba-9c3fcf094154",
   "metadata": {},
   "outputs": [
    {
     "ename": "ReadOnlyError",
     "evalue": "object is read-only",
     "output_type": "error",
     "traceback": [
      "\u001b[0;31m---------------------------------------------------------------------------\u001b[0m",
      "\u001b[0;31mReadOnlyError\u001b[0m                             Traceback (most recent call last)",
      "Cell \u001b[0;32mIn[31], line 2\u001b[0m\n\u001b[1;32m      1\u001b[0m \u001b[38;5;66;03m## This will fail with permissions errors -- Claims the object is read-only\u001b[39;00m\n\u001b[0;32m----> 2\u001b[0m \u001b[43mzarr\u001b[49m\u001b[38;5;241;43m.\u001b[39;49m\u001b[43mgroup\u001b[49m\u001b[43m(\u001b[49m\u001b[43mstore\u001b[49m\u001b[38;5;241;43m=\u001b[39;49m\u001b[43m_smap\u001b[49m\u001b[43m)\u001b[49m\n",
      "File \u001b[0;32m/home/conda/users/41ef378107ff90fc7fde32dde43db5e4e6e9bb184d9d537cc60311ec1b3f3d26-20230223-142312-805812-99-pangeo/lib/python3.9/site-packages/zarr/hierarchy.py:1355\u001b[0m, in \u001b[0;36mgroup\u001b[0;34m(store, overwrite, chunk_store, cache_attrs, synchronizer, path, zarr_version)\u001b[0m\n\u001b[1;32m   1352\u001b[0m     requires_init \u001b[38;5;241m=\u001b[39m overwrite \u001b[38;5;129;01mor\u001b[39;00m \u001b[38;5;129;01mnot\u001b[39;00m contains_group(store, path)\n\u001b[1;32m   1354\u001b[0m \u001b[38;5;28;01mif\u001b[39;00m requires_init:\n\u001b[0;32m-> 1355\u001b[0m     \u001b[43minit_group\u001b[49m\u001b[43m(\u001b[49m\u001b[43mstore\u001b[49m\u001b[43m,\u001b[49m\u001b[43m \u001b[49m\u001b[43moverwrite\u001b[49m\u001b[38;5;241;43m=\u001b[39;49m\u001b[43moverwrite\u001b[49m\u001b[43m,\u001b[49m\u001b[43m \u001b[49m\u001b[43mchunk_store\u001b[49m\u001b[38;5;241;43m=\u001b[39;49m\u001b[43mchunk_store\u001b[49m\u001b[43m,\u001b[49m\n\u001b[1;32m   1356\u001b[0m \u001b[43m               \u001b[49m\u001b[43mpath\u001b[49m\u001b[38;5;241;43m=\u001b[39;49m\u001b[43mpath\u001b[49m\u001b[43m)\u001b[49m\n\u001b[1;32m   1358\u001b[0m \u001b[38;5;28;01mreturn\u001b[39;00m Group(store, read_only\u001b[38;5;241m=\u001b[39m\u001b[38;5;28;01mFalse\u001b[39;00m, chunk_store\u001b[38;5;241m=\u001b[39mchunk_store,\n\u001b[1;32m   1359\u001b[0m              cache_attrs\u001b[38;5;241m=\u001b[39mcache_attrs, synchronizer\u001b[38;5;241m=\u001b[39msynchronizer, path\u001b[38;5;241m=\u001b[39mpath,\n\u001b[1;32m   1360\u001b[0m              zarr_version\u001b[38;5;241m=\u001b[39mzarr_version)\n",
      "File \u001b[0;32m/home/conda/users/41ef378107ff90fc7fde32dde43db5e4e6e9bb184d9d537cc60311ec1b3f3d26-20230223-142312-805812-99-pangeo/lib/python3.9/site-packages/zarr/storage.py:643\u001b[0m, in \u001b[0;36minit_group\u001b[0;34m(store, overwrite, path, chunk_store)\u001b[0m\n\u001b[1;32m    640\u001b[0m     store[\u001b[38;5;124m'\u001b[39m\u001b[38;5;124mzarr.json\u001b[39m\u001b[38;5;124m'\u001b[39m] \u001b[38;5;241m=\u001b[39m store\u001b[38;5;241m.\u001b[39m_metadata_class\u001b[38;5;241m.\u001b[39mencode_hierarchy_metadata(\u001b[38;5;28;01mNone\u001b[39;00m)  \u001b[38;5;66;03m# type: ignore\u001b[39;00m\n\u001b[1;32m    642\u001b[0m \u001b[38;5;66;03m# initialise metadata\u001b[39;00m\n\u001b[0;32m--> 643\u001b[0m \u001b[43m_init_group_metadata\u001b[49m\u001b[43m(\u001b[49m\u001b[43mstore\u001b[49m\u001b[38;5;241;43m=\u001b[39;49m\u001b[43mstore\u001b[49m\u001b[43m,\u001b[49m\u001b[43m \u001b[49m\u001b[43moverwrite\u001b[49m\u001b[38;5;241;43m=\u001b[39;49m\u001b[43moverwrite\u001b[49m\u001b[43m,\u001b[49m\u001b[43m \u001b[49m\u001b[43mpath\u001b[49m\u001b[38;5;241;43m=\u001b[39;49m\u001b[43mpath\u001b[49m\u001b[43m,\u001b[49m\n\u001b[1;32m    644\u001b[0m \u001b[43m                     \u001b[49m\u001b[43mchunk_store\u001b[49m\u001b[38;5;241;43m=\u001b[39;49m\u001b[43mchunk_store\u001b[49m\u001b[43m)\u001b[49m\n\u001b[1;32m    646\u001b[0m \u001b[38;5;28;01mif\u001b[39;00m store_version \u001b[38;5;241m==\u001b[39m \u001b[38;5;241m3\u001b[39m:\n\u001b[1;32m    647\u001b[0m     \u001b[38;5;66;03m# TODO: Should initializing a v3 group also create a corresponding\u001b[39;00m\n\u001b[1;32m    648\u001b[0m     \u001b[38;5;66;03m#       empty folder under data/root/? I think probably not until there\u001b[39;00m\n\u001b[1;32m    649\u001b[0m     \u001b[38;5;66;03m#       is actual data written there.\u001b[39;00m\n\u001b[1;32m    650\u001b[0m     \u001b[38;5;28;01mpass\u001b[39;00m\n",
      "File \u001b[0;32m/home/conda/users/41ef378107ff90fc7fde32dde43db5e4e6e9bb184d9d537cc60311ec1b3f3d26-20230223-142312-805812-99-pangeo/lib/python3.9/site-packages/zarr/storage.py:706\u001b[0m, in \u001b[0;36m_init_group_metadata\u001b[0;34m(store, overwrite, path, chunk_store)\u001b[0m\n\u001b[1;32m    704\u001b[0m key \u001b[38;5;241m=\u001b[39m _prefix_to_group_key(store, _path_to_prefix(path))\n\u001b[1;32m    705\u001b[0m \u001b[38;5;28;01mif\u001b[39;00m \u001b[38;5;28mhasattr\u001b[39m(store, \u001b[38;5;124m'\u001b[39m\u001b[38;5;124m_metadata_class\u001b[39m\u001b[38;5;124m'\u001b[39m):\n\u001b[0;32m--> 706\u001b[0m     \u001b[43mstore\u001b[49m\u001b[43m[\u001b[49m\u001b[43mkey\u001b[49m\u001b[43m]\u001b[49m \u001b[38;5;241m=\u001b[39m store\u001b[38;5;241m.\u001b[39m_metadata_class\u001b[38;5;241m.\u001b[39mencode_group_metadata(meta)  \u001b[38;5;66;03m# type: ignore\u001b[39;00m\n\u001b[1;32m    707\u001b[0m \u001b[38;5;28;01melse\u001b[39;00m:\n\u001b[1;32m    708\u001b[0m     store[key] \u001b[38;5;241m=\u001b[39m encode_group_metadata(meta)\n",
      "File \u001b[0;32m/home/conda/users/41ef378107ff90fc7fde32dde43db5e4e6e9bb184d9d537cc60311ec1b3f3d26-20230223-142312-805812-99-pangeo/lib/python3.9/site-packages/zarr/storage.py:1398\u001b[0m, in \u001b[0;36mFSStore.__setitem__\u001b[0;34m(self, key, value)\u001b[0m\n\u001b[1;32m   1396\u001b[0m \u001b[38;5;28;01mdef\u001b[39;00m \u001b[38;5;21m__setitem__\u001b[39m(\u001b[38;5;28mself\u001b[39m, key, value):\n\u001b[1;32m   1397\u001b[0m     \u001b[38;5;28;01mif\u001b[39;00m \u001b[38;5;28mself\u001b[39m\u001b[38;5;241m.\u001b[39mmode \u001b[38;5;241m==\u001b[39m \u001b[38;5;124m'\u001b[39m\u001b[38;5;124mr\u001b[39m\u001b[38;5;124m'\u001b[39m:\n\u001b[0;32m-> 1398\u001b[0m         \u001b[38;5;28;01mraise\u001b[39;00m ReadOnlyError()\n\u001b[1;32m   1399\u001b[0m     key \u001b[38;5;241m=\u001b[39m \u001b[38;5;28mself\u001b[39m\u001b[38;5;241m.\u001b[39m_normalize_key(key)\n\u001b[1;32m   1400\u001b[0m     path \u001b[38;5;241m=\u001b[39m \u001b[38;5;28mself\u001b[39m\u001b[38;5;241m.\u001b[39mdir_path(key)\n",
      "\u001b[0;31mReadOnlyError\u001b[0m: object is read-only"
     ]
    }
   ],
   "source": [
    "## This will fail with permissions errors -- Claims the object is read-only\n",
    "zarr.group(store=_smap)\n"
   ]
  },
  {
   "cell_type": "code",
   "execution_count": 26,
   "id": "e4d60ee8-dc10-432a-86c0-4f6a6b952a9f",
   "metadata": {},
   "outputs": [
    {
     "data": {
      "text/plain": [
       "{'ResponseMetadata': {'RequestId': 'tx00000dd3837aeb6c218fd-00640f4585-a9e24-default',\n",
       "  'HostId': '',\n",
       "  'HTTPStatusCode': 200,\n",
       "  'HTTPHeaders': {'content-length': '0',\n",
       "   'etag': '\"d41d8cd98f00b204e9800998ecf8427e\"',\n",
       "   'accept-ranges': 'bytes',\n",
       "   'x-amz-request-id': 'tx00000dd3837aeb6c218fd-00640f4585-a9e24-default',\n",
       "   'date': 'Mon, 13 Mar 2023 15:47:17 GMT'},\n",
       "  'RetryAttempts': 1},\n",
       " 'ETag': '\"d41d8cd98f00b204e9800998ecf8427e\"'}"
      ]
     },
     "execution_count": 26,
     "metadata": {},
     "output_type": "execute_result"
    }
   ],
   "source": [
    "## However, I can use mkdir to create the store by hand.  So I have permissions to create.\n",
    "fsw.mkdir(store)\n",
    "fsw.touch(store + \"/test\")"
   ]
  },
  {
   "cell_type": "code",
   "execution_count": 28,
   "id": "276a331d-a82e-492a-a7ef-06638429dc5c",
   "metadata": {},
   "outputs": [
    {
     "data": {
      "text/plain": [
       "['rsignellbucket2/testing/gzt5142/outfile.zarr/test']"
      ]
     },
     "execution_count": 28,
     "metadata": {},
     "output_type": "execute_result"
    }
   ],
   "source": [
    "fsw.ls('/rsignellbucket2/testing/gzt5142/outfile.zarr')"
   ]
  },
  {
   "cell_type": "code",
   "execution_count": null,
   "id": "0a8b0ee0-17ce-47ef-b4f0-b862483e1f3e",
   "metadata": {},
   "outputs": [],
   "source": [
    "fsw.rm("
   ]
  }
 ],
 "metadata": {
  "kernelspec": {
   "display_name": "users-users-pangeo",
   "language": "python",
   "name": "conda-env-users-users-pangeo-py"
  },
  "language_info": {
   "codemirror_mode": {
    "name": "ipython",
    "version": 3
   },
   "file_extension": ".py",
   "mimetype": "text/x-python",
   "name": "python",
   "nbconvert_exporter": "python",
   "pygments_lexer": "ipython3",
   "version": "3.10.9"
  }
 },
 "nbformat": 4,
 "nbformat_minor": 5
}
