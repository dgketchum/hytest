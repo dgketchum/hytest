{
 "cells": [
  {
   "cell_type": "markdown",
   "metadata": {
    "tags": []
   },
   "source": [
    "# Visualizing CONUS404 and reference data \n",
    " \n",
    " Author: Hannah Podzorski, USGS\n",
    " Date: 2024-04-03\n",
    " \n",
    "<img src='../../../doc/assets/Eval_Viz.svg' width=600>\n",
    "The purpose of visualization notebooks is to look at data in pretty ways.\n",
    "\n",
    "<details>\n",
    "  <summary>Guide to pre-requisites and learning outcomes...&lt;click to expand&gt;</summary>\n",
    "  \n",
    "  <table>\n",
    "    <tr>\n",
    "      <td>Pre-Requisites\n",
    "      <td>To get the most out of this notebook, you should already have an understanding of these topics: \n",
    "        <ul>\n",
    "        <li>pre-req one\n",
    "        <li>pre-req two\n",
    "        </ul>\n",
    "    <tr>\n",
    "      <td>Expected Results\n",
    "      <td>At the end of this notebook, you should be able to: \n",
    "        <ul>\n",
    "        <li>outcome one\n",
    "        <li>outcome two\n",
    "        </ul>\n",
    "  </table>\n",
    "</details>"
   ]
  },
  {
   "cell_type": "code",
   "execution_count": 10,
   "metadata": {
    "scrolled": true,
    "tags": []
   },
   "outputs": [],
   "source": [
    "# library imports\n",
    "import os\n",
    "import cf_xarray\n",
    "import dask\n",
    "from dask.distributed import LocalCluster, Client\n",
    "import fsspec \n",
    "os.environ['USE_PYGEOS'] = '0'\n",
    "import geopandas as gpd\n",
    "# import hvplot.pandas\n",
    "import hvplot.xarray\n",
    "import intake\n",
    "import math\n",
    "import numpy as np\n",
    "import pandas as pd\n",
    "import pygeohydro\n",
    "import sparse \n",
    "import warnings\n",
    "import xarray as xr\n",
    "\n",
    "from shapely.geometry import Polygon\n",
    "\n",
    "warnings.filterwarnings('ignore')\n"
   ]
  },
  {
   "cell_type": "markdown",
   "metadata": {},
   "source": [
    "## **Start a Dask client** \n",
    "This is an optional step, but can speed up data loading significantly, especially when accessing data from the cloud."
   ]
  },
  {
   "cell_type": "code",
   "execution_count": 9,
   "metadata": {},
   "outputs": [
    {
     "name": "stdout",
     "output_type": "stream",
     "text": [
      "Shutting down existing dask cluster.\n",
      "The Dask dashboard link is http://127.0.0.1:8787/status\n"
     ]
    }
   ],
   "source": [
    "if \"client\" in locals():\n",
    "    print(\"Shutting down existing Dask cluster.\")\n",
    "    cluster.close()\n",
    "    client.close()\n",
    "\n",
    "cluster = LocalCluster()\n",
    "client = Client(cluster)\n",
    "print(f\"The Dask dashboard link is {client.dashboard_link}\")"
   ]
  },
  {
   "cell_type": "code",
   "execution_count": null,
   "metadata": {},
   "outputs": [],
   "source": []
  },
  {
   "cell_type": "markdown",
   "metadata": {},
   "source": [
    "## Accessing already prepared CONUS404 data from OSN using `intake`\n",
    "\n",
    "Datasets are brought into the notebook using Dask through a couple of steps. \n",
    "\n",
    "First, the entry (prism-drb-OSN) in the catalog (conus404_drb_cat) is indexed and the method `to_dask` will automatically load the data from the catalog entry. See below."
   ]
  },
  {
   "cell_type": "code",
   "execution_count": 11,
   "metadata": {},
   "outputs": [
    {
     "data": {
      "text/plain": [
       "['c404-ceres-drb-desc-stats-OSN',\n",
       " 'c404-crn-drb-desc-stats-OSN',\n",
       " 'c404-drb-zonal-OSN',\n",
       " 'c404-hcn-drb-desc-stats-OSN',\n",
       " 'c404-prism-drb-desc-stats-OSN',\n",
       " 'ceres-drb-OSN',\n",
       " 'ceres-drb-zonal-OSN',\n",
       " 'conus404-drb-OSN',\n",
       " 'crn-drb-OSN',\n",
       " 'crn-drb-point-OSN',\n",
       " 'hcn-drb-OSN',\n",
       " 'hcn-drb-point-OSN',\n",
       " 'prism-drb-OSN',\n",
       " 'prism-drb-zonal-OSN']"
      ]
     },
     "execution_count": 11,
     "metadata": {},
     "output_type": "execute_result"
    }
   ],
   "source": [
    "# connect to HyTEST catalog\n",
    "url = 'https://raw.githubusercontent.com/hytest-org/hytest/main/dataset_catalog/hytest_intake_catalog.yml'\n",
    "cat = intake.open_catalog(url)\n",
    "\n",
    "# access tutorial catalog\n",
    "conus404_drb_cat = cat[\"conus404-drb-eval-tutorial-catalog\"]\n",
    "list(conus404_drb_cat)"
   ]
  },
  {
   "cell_type": "code",
   "execution_count": null,
   "metadata": {},
   "outputs": [],
   "source": [
    "prism_drb = conus404_drb_cat['prism-drb-OSN'].to_dask()\n",
    "prism_drb"
   ]
  }
 ],
 "metadata": {
  "kernelspec": {
   "display_name": "pangeo",
   "language": "python",
   "name": "python3"
  },
  "language_info": {
   "codemirror_mode": {
    "name": "ipython",
    "version": 3
   },
   "file_extension": ".py",
   "mimetype": "text/x-python",
   "name": "python",
   "nbconvert_exporter": "python",
   "pygments_lexer": "ipython3",
   "version": "3.11.8"
  }
 },
 "nbformat": 4,
 "nbformat_minor": 4
}
